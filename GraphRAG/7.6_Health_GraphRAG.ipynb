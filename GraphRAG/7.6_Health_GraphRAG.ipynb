{
 "cells": [
  {
   "cell_type": "code",
   "execution_count": 1,
   "id": "bdcbc9bf-cfaa-43bd-a8e9-549823f0352a",
   "metadata": {
    "scrolled": true
   },
   "outputs": [
    {
     "name": "stdout",
     "output_type": "stream",
     "text": [
      "Requirement already satisfied: langchain_openai in c:\\users\\jyseo\\anaconda3\\envs\\graph\\lib\\site-packages (0.3.4)\n",
      "Requirement already satisfied: langchain-neo4j in c:\\users\\jyseo\\anaconda3\\envs\\graph\\lib\\site-packages (0.3.0)\n",
      "Requirement already satisfied: langchain-core<1.0.0,>=0.3.34 in c:\\users\\jyseo\\anaconda3\\envs\\graph\\lib\\site-packages (from langchain_openai) (0.3.34)\n",
      "Requirement already satisfied: openai<2.0.0,>=1.58.1 in c:\\users\\jyseo\\anaconda3\\envs\\graph\\lib\\site-packages (from langchain_openai) (1.61.1)\n",
      "Requirement already satisfied: tiktoken<1,>=0.7 in c:\\users\\jyseo\\anaconda3\\envs\\graph\\lib\\site-packages (from langchain_openai) (0.8.0)\n",
      "Requirement already satisfied: langchain<0.4.0,>=0.3.7 in c:\\users\\jyseo\\anaconda3\\envs\\graph\\lib\\site-packages (from langchain-neo4j) (0.3.18)\n",
      "Requirement already satisfied: neo4j<6.0.0,>=5.25.0 in c:\\users\\jyseo\\anaconda3\\envs\\graph\\lib\\site-packages (from langchain-neo4j) (5.28.0)\n",
      "Requirement already satisfied: langchain-text-splitters<1.0.0,>=0.3.6 in c:\\users\\jyseo\\anaconda3\\envs\\graph\\lib\\site-packages (from langchain<0.4.0,>=0.3.7->langchain-neo4j) (0.3.6)\n",
      "Requirement already satisfied: langsmith<0.4,>=0.1.17 in c:\\users\\jyseo\\anaconda3\\envs\\graph\\lib\\site-packages (from langchain<0.4.0,>=0.3.7->langchain-neo4j) (0.3.2)\n",
      "Requirement already satisfied: pydantic<3.0.0,>=2.7.4 in c:\\users\\jyseo\\anaconda3\\envs\\graph\\lib\\site-packages (from langchain<0.4.0,>=0.3.7->langchain-neo4j) (2.10.6)\n",
      "Requirement already satisfied: SQLAlchemy<3,>=1.4 in c:\\users\\jyseo\\anaconda3\\envs\\graph\\lib\\site-packages (from langchain<0.4.0,>=0.3.7->langchain-neo4j) (2.0.37)\n",
      "Requirement already satisfied: requests<3,>=2 in c:\\users\\jyseo\\anaconda3\\envs\\graph\\lib\\site-packages (from langchain<0.4.0,>=0.3.7->langchain-neo4j) (2.32.3)\n",
      "Requirement already satisfied: PyYAML>=5.3 in c:\\users\\jyseo\\anaconda3\\envs\\graph\\lib\\site-packages (from langchain<0.4.0,>=0.3.7->langchain-neo4j) (6.0.2)\n",
      "Requirement already satisfied: aiohttp<4.0.0,>=3.8.3 in c:\\users\\jyseo\\anaconda3\\envs\\graph\\lib\\site-packages (from langchain<0.4.0,>=0.3.7->langchain-neo4j) (3.11.11)\n",
      "Requirement already satisfied: tenacity!=8.4.0,<10,>=8.1.0 in c:\\users\\jyseo\\anaconda3\\envs\\graph\\lib\\site-packages (from langchain<0.4.0,>=0.3.7->langchain-neo4j) (9.0.0)\n",
      "Requirement already satisfied: numpy<2,>=1.26.4 in c:\\users\\jyseo\\anaconda3\\envs\\graph\\lib\\site-packages (from langchain<0.4.0,>=0.3.7->langchain-neo4j) (1.26.4)\n",
      "Requirement already satisfied: async-timeout<5.0.0,>=4.0.0 in c:\\users\\jyseo\\anaconda3\\envs\\graph\\lib\\site-packages (from langchain<0.4.0,>=0.3.7->langchain-neo4j) (4.0.3)\n",
      "Requirement already satisfied: jsonpatch<2.0,>=1.33 in c:\\users\\jyseo\\anaconda3\\envs\\graph\\lib\\site-packages (from langchain-core<1.0.0,>=0.3.34->langchain_openai) (1.33)\n",
      "Requirement already satisfied: packaging<25,>=23.2 in c:\\users\\jyseo\\anaconda3\\envs\\graph\\lib\\site-packages (from langchain-core<1.0.0,>=0.3.34->langchain_openai) (24.2)\n",
      "Requirement already satisfied: typing-extensions>=4.7 in c:\\users\\jyseo\\anaconda3\\envs\\graph\\lib\\site-packages (from langchain-core<1.0.0,>=0.3.34->langchain_openai) (4.12.2)\n",
      "Requirement already satisfied: pytz in c:\\users\\jyseo\\anaconda3\\envs\\graph\\lib\\site-packages (from neo4j<6.0.0,>=5.25.0->langchain-neo4j) (2024.2)\n",
      "Requirement already satisfied: anyio<5,>=3.5.0 in c:\\users\\jyseo\\anaconda3\\envs\\graph\\lib\\site-packages (from openai<2.0.0,>=1.58.1->langchain_openai) (4.8.0)\n",
      "Requirement already satisfied: distro<2,>=1.7.0 in c:\\users\\jyseo\\anaconda3\\envs\\graph\\lib\\site-packages (from openai<2.0.0,>=1.58.1->langchain_openai) (1.9.0)\n",
      "Requirement already satisfied: httpx<1,>=0.23.0 in c:\\users\\jyseo\\anaconda3\\envs\\graph\\lib\\site-packages (from openai<2.0.0,>=1.58.1->langchain_openai) (0.28.1)\n",
      "Requirement already satisfied: jiter<1,>=0.4.0 in c:\\users\\jyseo\\anaconda3\\envs\\graph\\lib\\site-packages (from openai<2.0.0,>=1.58.1->langchain_openai) (0.8.2)\n",
      "Requirement already satisfied: sniffio in c:\\users\\jyseo\\anaconda3\\envs\\graph\\lib\\site-packages (from openai<2.0.0,>=1.58.1->langchain_openai) (1.3.1)\n",
      "Requirement already satisfied: tqdm>4 in c:\\users\\jyseo\\anaconda3\\envs\\graph\\lib\\site-packages (from openai<2.0.0,>=1.58.1->langchain_openai) (4.67.1)\n",
      "Requirement already satisfied: regex>=2022.1.18 in c:\\users\\jyseo\\anaconda3\\envs\\graph\\lib\\site-packages (from tiktoken<1,>=0.7->langchain_openai) (2024.11.6)\n",
      "Requirement already satisfied: aiohappyeyeballs>=2.3.0 in c:\\users\\jyseo\\anaconda3\\envs\\graph\\lib\\site-packages (from aiohttp<4.0.0,>=3.8.3->langchain<0.4.0,>=0.3.7->langchain-neo4j) (2.4.4)\n",
      "Requirement already satisfied: aiosignal>=1.1.2 in c:\\users\\jyseo\\anaconda3\\envs\\graph\\lib\\site-packages (from aiohttp<4.0.0,>=3.8.3->langchain<0.4.0,>=0.3.7->langchain-neo4j) (1.3.2)\n",
      "Requirement already satisfied: attrs>=17.3.0 in c:\\users\\jyseo\\anaconda3\\envs\\graph\\lib\\site-packages (from aiohttp<4.0.0,>=3.8.3->langchain<0.4.0,>=0.3.7->langchain-neo4j) (25.1.0)\n",
      "Requirement already satisfied: frozenlist>=1.1.1 in c:\\users\\jyseo\\anaconda3\\envs\\graph\\lib\\site-packages (from aiohttp<4.0.0,>=3.8.3->langchain<0.4.0,>=0.3.7->langchain-neo4j) (1.5.0)\n",
      "Requirement already satisfied: multidict<7.0,>=4.5 in c:\\users\\jyseo\\anaconda3\\envs\\graph\\lib\\site-packages (from aiohttp<4.0.0,>=3.8.3->langchain<0.4.0,>=0.3.7->langchain-neo4j) (6.1.0)\n",
      "Requirement already satisfied: propcache>=0.2.0 in c:\\users\\jyseo\\anaconda3\\envs\\graph\\lib\\site-packages (from aiohttp<4.0.0,>=3.8.3->langchain<0.4.0,>=0.3.7->langchain-neo4j) (0.2.1)\n",
      "Requirement already satisfied: yarl<2.0,>=1.17.0 in c:\\users\\jyseo\\anaconda3\\envs\\graph\\lib\\site-packages (from aiohttp<4.0.0,>=3.8.3->langchain<0.4.0,>=0.3.7->langchain-neo4j) (1.18.3)\n",
      "Requirement already satisfied: exceptiongroup>=1.0.2 in c:\\users\\jyseo\\anaconda3\\envs\\graph\\lib\\site-packages (from anyio<5,>=3.5.0->openai<2.0.0,>=1.58.1->langchain_openai) (1.2.0)\n",
      "Requirement already satisfied: idna>=2.8 in c:\\users\\jyseo\\anaconda3\\envs\\graph\\lib\\site-packages (from anyio<5,>=3.5.0->openai<2.0.0,>=1.58.1->langchain_openai) (3.10)\n",
      "Requirement already satisfied: certifi in c:\\users\\jyseo\\anaconda3\\envs\\graph\\lib\\site-packages (from httpx<1,>=0.23.0->openai<2.0.0,>=1.58.1->langchain_openai) (2024.12.14)\n",
      "Requirement already satisfied: httpcore==1.* in c:\\users\\jyseo\\anaconda3\\envs\\graph\\lib\\site-packages (from httpx<1,>=0.23.0->openai<2.0.0,>=1.58.1->langchain_openai) (1.0.7)\n",
      "Requirement already satisfied: h11<0.15,>=0.13 in c:\\users\\jyseo\\anaconda3\\envs\\graph\\lib\\site-packages (from httpcore==1.*->httpx<1,>=0.23.0->openai<2.0.0,>=1.58.1->langchain_openai) (0.14.0)\n",
      "Requirement already satisfied: jsonpointer>=1.9 in c:\\users\\jyseo\\anaconda3\\envs\\graph\\lib\\site-packages (from jsonpatch<2.0,>=1.33->langchain-core<1.0.0,>=0.3.34->langchain_openai) (3.0.0)\n",
      "Requirement already satisfied: orjson<4.0.0,>=3.9.14 in c:\\users\\jyseo\\anaconda3\\envs\\graph\\lib\\site-packages (from langsmith<0.4,>=0.1.17->langchain<0.4.0,>=0.3.7->langchain-neo4j) (3.10.15)\n",
      "Requirement already satisfied: requests-toolbelt<2.0.0,>=1.0.0 in c:\\users\\jyseo\\anaconda3\\envs\\graph\\lib\\site-packages (from langsmith<0.4,>=0.1.17->langchain<0.4.0,>=0.3.7->langchain-neo4j) (1.0.0)\n",
      "Requirement already satisfied: zstandard<0.24.0,>=0.23.0 in c:\\users\\jyseo\\anaconda3\\envs\\graph\\lib\\site-packages (from langsmith<0.4,>=0.1.17->langchain<0.4.0,>=0.3.7->langchain-neo4j) (0.23.0)\n",
      "Requirement already satisfied: annotated-types>=0.6.0 in c:\\users\\jyseo\\anaconda3\\envs\\graph\\lib\\site-packages (from pydantic<3.0.0,>=2.7.4->langchain<0.4.0,>=0.3.7->langchain-neo4j) (0.7.0)\n",
      "Requirement already satisfied: pydantic-core==2.27.2 in c:\\users\\jyseo\\anaconda3\\envs\\graph\\lib\\site-packages (from pydantic<3.0.0,>=2.7.4->langchain<0.4.0,>=0.3.7->langchain-neo4j) (2.27.2)\n",
      "Requirement already satisfied: charset-normalizer<4,>=2 in c:\\users\\jyseo\\anaconda3\\envs\\graph\\lib\\site-packages (from requests<3,>=2->langchain<0.4.0,>=0.3.7->langchain-neo4j) (3.4.1)\n",
      "Requirement already satisfied: urllib3<3,>=1.21.1 in c:\\users\\jyseo\\anaconda3\\envs\\graph\\lib\\site-packages (from requests<3,>=2->langchain<0.4.0,>=0.3.7->langchain-neo4j) (2.3.0)\n",
      "Requirement already satisfied: greenlet!=0.4.17 in c:\\users\\jyseo\\anaconda3\\envs\\graph\\lib\\site-packages (from SQLAlchemy<3,>=1.4->langchain<0.4.0,>=0.3.7->langchain-neo4j) (3.1.1)\n",
      "Requirement already satisfied: colorama in c:\\users\\jyseo\\anaconda3\\envs\\graph\\lib\\site-packages (from tqdm>4->openai<2.0.0,>=1.58.1->langchain_openai) (0.4.6)\n"
     ]
    }
   ],
   "source": [
    "!pip install langchain_openai langchain-neo4j"
   ]
  },
  {
   "cell_type": "code",
   "execution_count": 2,
   "id": "ba4ce63e-d849-488e-9603-719aa7ad0ab8",
   "metadata": {},
   "outputs": [],
   "source": [
    "import warnings\n",
    "import json\n",
    "from langchain_neo4j import Neo4jGraph\n",
    "\n",
    "# 실행 중 발생하는 모든 경고 메시지를 무시\n",
    "with warnings.catch_warnings():\n",
    "    warnings.simplefilter('ignore')\n",
    "\n",
    "url = \"bolt://localhost:7687\"  # Neo4j URI\n",
    "username = \"neo4j\"  # Neo4j 사용자명\n",
    "password = \" \"  # Neo4j 비밀번호 입력\n",
    "database = \"neo4j\" # Neo4j 데이터베이스"
   ]
  },
  {
   "cell_type": "code",
   "execution_count": 3,
   "id": "ee6b03eb-870c-4691-b849-c20f065cfda3",
   "metadata": {},
   "outputs": [],
   "source": [
    "import os\n",
    "os.environ[\"OPENAI_API_KEY\"] = \"sk\" #openai 키 입력"
   ]
  },
  {
   "cell_type": "code",
   "execution_count": 4,
   "id": "d8f2739c-0a46-4e5c-bab0-277ad71f1102",
   "metadata": {},
   "outputs": [],
   "source": [
    "# Neo4j 데이터베이스에 연결\n",
    "graph = Neo4jGraph(\n",
    "    url=url, username=username, password=password, database=database\n",
    ")\n",
    "\n",
    "graph.refresh_schema()\n",
    "schema=graph.schema"
   ]
  },
  {
   "cell_type": "code",
   "execution_count": 5,
   "id": "955b0f93-b086-489d-8969-00605a458589",
   "metadata": {},
   "outputs": [],
   "source": [
    "from langchain_openai import ChatOpenAI\n",
    "llm = ChatOpenAI(model_name=\"gpt-4o\", temperature=0)"
   ]
  },
  {
   "cell_type": "code",
   "execution_count": 6,
   "id": "b40e93ef-88d8-4a80-903d-adeac748bd75",
   "metadata": {},
   "outputs": [],
   "source": [
    "prompt_template = \"\"\"\n",
    "천천히 단계별로 생각해 봅시다:\n",
    "1단계: 작업(Task)\n",
    "목표:\n",
    "그래프 데이터베이스에서 질의할 효과적이고 간결한 Cypher 쿼리를 생성합니다.\n",
    "쿼리는 256자 이하여야 합니다.\n",
    "코드에 주석을 달지 마세요.\n",
    "\n",
    "2단계: 데이터베이스 스키마 이해하기\n",
    "제공된 데이터베이스 스키마: {schema}\n",
    "데이터베이스에 어떤 노드, 관계, 속성이 있는지 확인합니다.\n",
    "\n",
    "3단계: 생성 규칙\n",
    "Cypher 쿼리를 작성할 때 반드시 지켜야 할 규칙:\n",
    "\n",
    "쿼리에서 반드시 제공된 스키마에 있는 관계 유형과 속성만 사용하세요.\n",
    "사용자 질문에 나와 있더라도, 스키마에 없는 관계 또는 속성을 사용하지 마세요.\n",
    "나이(Age) 관련 규칙\n",
    "절대 나이를 직접 사용하지 마세요.\n",
    "예: \"24세\" → 사용하지 말 것, 대신 \"20세 이상\"과 같은 범위를 사용하세요.\n",
    "나이 비교에서는 항상 '초과'만 사용 (greater than)\n",
    "'이하(less than)' 또는 '같음(equal)'을 사용하지 마세요.\n",
    "데이터베이스에 없는 속성(Property)은 절대 사용하지 마세요.\n",
    "\n",
    "4단계: Cypher 쿼리 예제\n",
    "아래는 특정 질문에 대한 Cypher 쿼리 예제입니다.\n",
    "\n",
    "4.1 고혈압을 유발하는 질병은?\n",
    "MATCH (d:Disease)-[:HAS_HEALTH_INDICATOR]->(bp:BloodPressure)\n",
    "WHERE bp.Level = 'High'\n",
    "RETURN d.Name\n",
    "\n",
    "4.2 고혈압 지표를 가진 질병은?\n",
    "MATCH (d:Disease)-[:HAS_HEALTH_INDICATOR]->(bp:BloodPressure)\n",
    "MATCH (d)-[:HAS_OUTCOME]->(o:Outcome)\n",
    "WHERE bp.Level = 'High' AND o.Result = 'Positive'\n",
    "RETURN d, properties(d) AS disease_properties, bp, properties(bp) AS blood_pressure_properties, o, properties(o) AS outcome_properties\n",
    "\n",
    "\n",
    "4.3 고혈압, 고콜레스테롤, 발열, 피로 증상을 보이는 노인 질병은?\n",
    "MATCH (d:Disease)-[:HAS_HEALTH_INDICATOR]->(bp:BloodPressure)\n",
    "MATCH (d)-[:HAS_HEALTH_INDICATOR]->(ch:CholesterolLevel)\n",
    "MATCH (d)-[:HAS_SYMPTOM]->(f:Fever)\n",
    "MATCH (d)-[:HAS_SYMPTOM]->(fa:Fatigue)\n",
    "MATCH (d)-[:HAS_DEMOGRAPHIC]->(a:Age)\n",
    "WHERE bp.Level = 'High'\n",
    "  AND ch.Level = 'High'\n",
    "  AND f.Status = 'Yes'\n",
    "  AND fa.Status = 'Yes'\n",
    "  AND a.Value > 40\n",
    "RETURN d.Name\n",
    "\n",
    "\n",
    "4.4 고콜레스테롤이 있는 환자가 발열과 피로를 보이며 기침, 호흡곤란이 없는 경우 유발하는 질병은?\n",
    "MATCH (d:Disease)-[:HAS_SYMPTOM]->(f:Fever)\n",
    "MATCH (d)-[:HAS_SYMPTOM]->(fa:Fatigue)\n",
    "MATCH (d)-[:HAS_SYMPTOM]->(c:Cough)\n",
    "MATCH (d)-[:HAS_SYMPTOM]->(db:DifficultyBreathing)\n",
    "MATCH (d)-[:HAS_HEALTH_INDICATOR]->(ch:CholesterolLevel)\n",
    "MATCH (d)-[:HAS_OUTCOME]->(o:Outcome)\n",
    "WHERE f.Status = 'Yes'\n",
    "  AND fa.Status = 'Yes'\n",
    "  AND c.Status = 'No'\n",
    "  AND db.Status = 'No'\n",
    "  AND ch.Level = 'High'\n",
    "  AND o.Result = 'Positive'\n",
    "RETURN d, properties(d) AS disease_properties, ch, properties(ch) AS cholesterol_properties, o, properties(o) AS outcome_properties\n",
    "\n",
    "\n",
    "5단계: 각 속성에 대한 허용값\n",
    "발열(Fever): 환자가 발열이 있는지 여부 (Yes/No)\n",
    "기침(Cough): 환자가 기침이 있는지 여부 (Yes/No)\n",
    "피로(Fatigue): 환자가 피로를 느끼는지 여부 (Yes/No)\n",
    "호흡곤란(Difficulty Breathing): 환자가 호흡곤란이 있는지 여부 (Yes/No)\n",
    "나이(Age): 환자의 나이 (20세 이상 등 범위로 사용)\n",
    "성별(Gender): 환자의 성별 (Male/Female)\n",
    "혈압(Blood Pressure): 혈압 수준 (Normal/High)\n",
    "콜레스테롤 수치(Cholesterol Level): 콜레스테롤 수준 (Normal/High)\n",
    "질병 결과(Outcome Variable): 질병 진단 결과 (Positive/Negative)\n",
    "\n",
    "6단계: 사용자의 질문을 Cypher 쿼리로 변환\n",
    "{question}을 기반으로 위의 규칙을 적용하여 Cypher 쿼리를 생성하세요.\"\"\""
   ]
  },
  {
   "cell_type": "code",
   "execution_count": 9,
   "id": "a1fec824-bec8-4138-8b52-880c17d43b2f",
   "metadata": {},
   "outputs": [],
   "source": [
    "# 랭체인 PromptTemplate을 사용하여 Cypher 쿼리를 생성할 템플릿을 설정\n",
    "from langchain.prompts.prompt import PromptTemplate\n",
    "cypher_prompt = PromptTemplate(\n",
    "    input_variables=[\"schema\",\"question\"], \n",
    "    template=prompt_template\n",
    ")\n",
    "\n",
    "# 랭체인을 사용하여 자연어 질문을 Cypher 쿼리로 변환 후, Neo4j에서 검색하는 체인 생성\n",
    "from langchain_neo4j import GraphCypherQAChain\n",
    "cypherChain = GraphCypherQAChain.from_llm(\n",
    "    llm=llm,\n",
    "    graph=graph,\n",
    "    verbose=True,\n",
    "    cypher_prompt=cypher_prompt, # Cypher 쿼리를 생성할 때 사용할 프롬프트 \n",
    "    allow_dangerous_requests = True,\n",
    "    top_k=10 # 검색 결과에서 최대 10개의 문서를 반환\n",
    ")"
   ]
  },
  {
   "cell_type": "code",
   "execution_count": 15,
   "id": "fbbc705e-ab6b-4394-9b9d-e6adab6e3275",
   "metadata": {},
   "outputs": [
    {
     "name": "stdout",
     "output_type": "stream",
     "text": [
      "\n",
      "\n",
      "\u001b[1m> Entering new GraphCypherQAChain chain...\u001b[0m\n",
      "Generated Cypher:\n",
      "\u001b[32;1m\u001b[1;3mcypher\n",
      "MATCH (d:Disease)-[:HAS_HEALTH_INDICATOR]->(bp:BloodPressure)\n",
      "MATCH (d)-[:HAS_SYMPTOM]->(f:Fever)\n",
      "MATCH (d)-[:HAS_SYMPTOM]->(db:DifficultyBreathing)\n",
      "MATCH (d)-[:HAS_DEMOGRAPHIC]->(a:Age)\n",
      "WHERE bp.Level = 'High'\n",
      "  AND f.Status = 'Yes'\n",
      "  AND db.Status = 'Yes'\n",
      "  AND a.Value > 45\n",
      "RETURN d.Name\n",
      "\u001b[0m\n",
      "Full Context:\n",
      "\u001b[32;1m\u001b[1;3m[{'d.Name': 'Pneumonia'}]\u001b[0m\n",
      "\n",
      "\u001b[1m> Finished chain.\u001b[0m\n"
     ]
    },
    {
     "data": {
      "text/plain": [
       "{'query': '45세 남성이고, 고혈압, 발열, 호흡곤란 증상이 있어. 가능한 질환은?',\n",
       " 'result': '폐렴이 가능한 질환입니다.'}"
      ]
     },
     "execution_count": 15,
     "metadata": {},
     "output_type": "execute_result"
    }
   ],
   "source": [
    "cypherChain.invoke(\"\"\"45세 남성이고, 고혈압, 발열, 호흡곤란 증상이 있어. 가능한 질환은?\"\"\")"
   ]
  },
  {
   "cell_type": "code",
   "execution_count": 16,
   "id": "68aa0180-e352-4177-8e67-71094e02675d",
   "metadata": {},
   "outputs": [
    {
     "name": "stdout",
     "output_type": "stream",
     "text": [
      "\n",
      "\n",
      "\u001b[1m> Entering new GraphCypherQAChain chain...\u001b[0m\n",
      "Generated Cypher:\n",
      "\u001b[32;1m\u001b[1;3mcypher\n",
      "MATCH (d:Disease)-[:HAS_SYMPTOM]->(f:Fever)\n",
      "MATCH (d)-[:HAS_SYMPTOM]->(fa:Fatigue)\n",
      "MATCH (d)-[:HAS_SYMPTOM]->(c:Cough)\n",
      "MATCH (d)-[:HAS_DEMOGRAPHIC]->(a:Age)\n",
      "WHERE f.Status = 'Yes'\n",
      "  AND fa.Status = 'Yes'\n",
      "  AND c.Status = 'Yes'\n",
      "  AND a.Value > 30\n",
      "RETURN d.Name\n",
      "\u001b[0m\n",
      "Full Context:\n",
      "\u001b[32;1m\u001b[1;3m[{'d.Name': 'Hypertension'}, {'d.Name': 'Pneumonia'}]\u001b[0m\n",
      "\n",
      "\u001b[1m> Finished chain.\u001b[0m\n"
     ]
    },
    {
     "data": {
      "text/plain": [
       "{'query': '나이는 30세이고 남성이야, 고열, 피로, 기침 증상이 있어. 가능한 질환은?',\n",
       " 'result': '고열, 피로, 기침 증상에 대한 가능한 질환은 고혈압과 폐렴입니다.'}"
      ]
     },
     "execution_count": 16,
     "metadata": {},
     "output_type": "execute_result"
    }
   ],
   "source": [
    "cypherChain.invoke(\"\"\"나이는 30세이고 남성이야, 고열, 피로, 기침 증상이 있어. 가능한 질환은?\"\"\")"
   ]
  },
  {
   "cell_type": "code",
   "execution_count": 18,
   "id": "b054e5e0-8966-4fc3-a67e-edf082f8c27d",
   "metadata": {},
   "outputs": [
    {
     "name": "stdout",
     "output_type": "stream",
     "text": [
      "\n",
      "\n",
      "\u001b[1m> Entering new GraphCypherQAChain chain...\u001b[0m\n",
      "Generated Cypher:\n",
      "\u001b[32;1m\u001b[1;3mcypher\n",
      "MATCH (d:Disease)-[:HAS_HEALTH_INDICATOR]->(bp:BloodPressure)\n",
      "MATCH (d)-[:HAS_HEALTH_INDICATOR]->(ch:CholesterolLevel)\n",
      "MATCH (d)-[:HAS_SYMPTOM]->(f:Fever)\n",
      "MATCH (d)-[:HAS_DEMOGRAPHIC]->(a:Age)\n",
      "MATCH (d)-[:HAS_DEMOGRAPHIC]->(g:Gender)\n",
      "WHERE bp.Level = 'High'\n",
      "  AND ch.Level = 'High'\n",
      "  AND f.Status = 'Yes'\n",
      "  AND a.Value > 55\n",
      "  AND g.Type = 'Male'\n",
      "RETURN d.Name\n",
      "\u001b[0m\n",
      "Full Context:\n",
      "\u001b[32;1m\u001b[1;3m[]\u001b[0m\n",
      "\n",
      "\u001b[1m> Finished chain.\u001b[0m\n"
     ]
    },
    {
     "data": {
      "text/plain": [
       "{'query': '나이는 55세이고 남성이야, 고혈압에 고콜레스테롤, 발열 증상이 있어. 가능한 질환은?',\n",
       " 'result': \"I don't know the answer.\"}"
      ]
     },
     "execution_count": 18,
     "metadata": {},
     "output_type": "execute_result"
    }
   ],
   "source": [
    "cypherChain.invoke(\"\"\"나이는 55세이고 남성이야, 고혈압에 고콜레스테롤, 발열 증상이 있어. 가능한 질환은?\"\"\")"
   ]
  },
  {
   "cell_type": "code",
   "execution_count": null,
   "id": "7f91ae1a-24b9-475a-bd94-5be936f80dd8",
   "metadata": {},
   "outputs": [],
   "source": []
  }
 ],
 "metadata": {
  "kernelspec": {
   "display_name": "graph",
   "language": "python",
   "name": "graph"
  },
  "language_info": {
   "codemirror_mode": {
    "name": "ipython",
    "version": 3
   },
   "file_extension": ".py",
   "mimetype": "text/x-python",
   "name": "python",
   "nbconvert_exporter": "python",
   "pygments_lexer": "ipython3",
   "version": "3.10.16"
  }
 },
 "nbformat": 4,
 "nbformat_minor": 5
}
