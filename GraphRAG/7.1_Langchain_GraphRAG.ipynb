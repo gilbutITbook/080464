{
 "cells": [
  {
   "cell_type": "code",
   "execution_count": 1,
   "metadata": {
    "colab": {
     "base_uri": "https://localhost:8080/"
    },
    "id": "Rcnk10HRDefz",
    "outputId": "603b5b68-c8a0-4b62-f628-fd04fa4a099c",
    "scrolled": true
   },
   "outputs": [
    {
     "name": "stdout",
     "output_type": "stream",
     "text": [
      "Collecting json-repair\n",
      "  Using cached json_repair-0.39.0-py3-none-any.whl.metadata (11 kB)\n",
      "Requirement already satisfied: networkx in c:\\users\\jyseo\\anaconda3\\envs\\rag\\lib\\site-packages (3.4.2)\n",
      "Requirement already satisfied: langchain-core in c:\\users\\jyseo\\anaconda3\\envs\\rag\\lib\\site-packages (0.3.37)\n",
      "Collecting langchain-experimental\n",
      "  Using cached langchain_experimental-0.3.4-py3-none-any.whl.metadata (1.7 kB)\n",
      "Requirement already satisfied: langchain-community in c:\\users\\jyseo\\anaconda3\\envs\\rag\\lib\\site-packages (0.3.18)\n",
      "Requirement already satisfied: langchain_openai in c:\\users\\jyseo\\anaconda3\\envs\\rag\\lib\\site-packages (0.3.6)\n",
      "Requirement already satisfied: langsmith<0.4,>=0.1.125 in c:\\users\\jyseo\\anaconda3\\envs\\rag\\lib\\site-packages (from langchain-core) (0.3.10)\n",
      "Requirement already satisfied: tenacity!=8.4.0,<10.0.0,>=8.1.0 in c:\\users\\jyseo\\anaconda3\\envs\\rag\\lib\\site-packages (from langchain-core) (9.0.0)\n",
      "Requirement already satisfied: jsonpatch<2.0,>=1.33 in c:\\users\\jyseo\\anaconda3\\envs\\rag\\lib\\site-packages (from langchain-core) (1.33)\n",
      "Requirement already satisfied: PyYAML>=5.3 in c:\\users\\jyseo\\anaconda3\\envs\\rag\\lib\\site-packages (from langchain-core) (6.0.2)\n",
      "Requirement already satisfied: packaging<25,>=23.2 in c:\\users\\jyseo\\anaconda3\\envs\\rag\\lib\\site-packages (from langchain-core) (24.2)\n",
      "Requirement already satisfied: typing-extensions>=4.7 in c:\\users\\jyseo\\anaconda3\\envs\\rag\\lib\\site-packages (from langchain-core) (4.12.2)\n",
      "Requirement already satisfied: pydantic<3.0.0,>=2.5.2 in c:\\users\\jyseo\\anaconda3\\envs\\rag\\lib\\site-packages (from langchain-core) (2.10.6)\n",
      "Requirement already satisfied: langchain<1.0.0,>=0.3.19 in c:\\users\\jyseo\\anaconda3\\envs\\rag\\lib\\site-packages (from langchain-community) (0.3.19)\n",
      "Requirement already satisfied: SQLAlchemy<3,>=1.4 in c:\\users\\jyseo\\anaconda3\\envs\\rag\\lib\\site-packages (from langchain-community) (2.0.38)\n",
      "Requirement already satisfied: requests<3,>=2 in c:\\users\\jyseo\\anaconda3\\envs\\rag\\lib\\site-packages (from langchain-community) (2.32.3)\n",
      "Requirement already satisfied: aiohttp<4.0.0,>=3.8.3 in c:\\users\\jyseo\\anaconda3\\envs\\rag\\lib\\site-packages (from langchain-community) (3.11.12)\n",
      "Requirement already satisfied: dataclasses-json<0.7,>=0.5.7 in c:\\users\\jyseo\\anaconda3\\envs\\rag\\lib\\site-packages (from langchain-community) (0.6.7)\n",
      "Requirement already satisfied: pydantic-settings<3.0.0,>=2.4.0 in c:\\users\\jyseo\\anaconda3\\envs\\rag\\lib\\site-packages (from langchain-community) (2.8.0)\n",
      "Requirement already satisfied: httpx-sse<1.0.0,>=0.4.0 in c:\\users\\jyseo\\anaconda3\\envs\\rag\\lib\\site-packages (from langchain-community) (0.4.0)\n",
      "Requirement already satisfied: numpy<2,>=1.26.4 in c:\\users\\jyseo\\anaconda3\\envs\\rag\\lib\\site-packages (from langchain-community) (1.26.4)\n",
      "Requirement already satisfied: openai<2.0.0,>=1.58.1 in c:\\users\\jyseo\\anaconda3\\envs\\rag\\lib\\site-packages (from langchain_openai) (1.63.2)\n",
      "Requirement already satisfied: tiktoken<1,>=0.7 in c:\\users\\jyseo\\anaconda3\\envs\\rag\\lib\\site-packages (from langchain_openai) (0.9.0)\n",
      "Requirement already satisfied: aiohappyeyeballs>=2.3.0 in c:\\users\\jyseo\\anaconda3\\envs\\rag\\lib\\site-packages (from aiohttp<4.0.0,>=3.8.3->langchain-community) (2.4.6)\n",
      "Requirement already satisfied: aiosignal>=1.1.2 in c:\\users\\jyseo\\anaconda3\\envs\\rag\\lib\\site-packages (from aiohttp<4.0.0,>=3.8.3->langchain-community) (1.3.2)\n",
      "Requirement already satisfied: async-timeout<6.0,>=4.0 in c:\\users\\jyseo\\anaconda3\\envs\\rag\\lib\\site-packages (from aiohttp<4.0.0,>=3.8.3->langchain-community) (4.0.3)\n",
      "Requirement already satisfied: attrs>=17.3.0 in c:\\users\\jyseo\\anaconda3\\envs\\rag\\lib\\site-packages (from aiohttp<4.0.0,>=3.8.3->langchain-community) (25.1.0)\n",
      "Requirement already satisfied: frozenlist>=1.1.1 in c:\\users\\jyseo\\anaconda3\\envs\\rag\\lib\\site-packages (from aiohttp<4.0.0,>=3.8.3->langchain-community) (1.5.0)\n",
      "Requirement already satisfied: multidict<7.0,>=4.5 in c:\\users\\jyseo\\anaconda3\\envs\\rag\\lib\\site-packages (from aiohttp<4.0.0,>=3.8.3->langchain-community) (6.1.0)\n",
      "Requirement already satisfied: propcache>=0.2.0 in c:\\users\\jyseo\\anaconda3\\envs\\rag\\lib\\site-packages (from aiohttp<4.0.0,>=3.8.3->langchain-community) (0.3.0)\n",
      "Requirement already satisfied: yarl<2.0,>=1.17.0 in c:\\users\\jyseo\\anaconda3\\envs\\rag\\lib\\site-packages (from aiohttp<4.0.0,>=3.8.3->langchain-community) (1.18.3)\n",
      "Requirement already satisfied: marshmallow<4.0.0,>=3.18.0 in c:\\users\\jyseo\\anaconda3\\envs\\rag\\lib\\site-packages (from dataclasses-json<0.7,>=0.5.7->langchain-community) (3.26.1)\n",
      "Requirement already satisfied: typing-inspect<1,>=0.4.0 in c:\\users\\jyseo\\anaconda3\\envs\\rag\\lib\\site-packages (from dataclasses-json<0.7,>=0.5.7->langchain-community) (0.9.0)\n",
      "Requirement already satisfied: jsonpointer>=1.9 in c:\\users\\jyseo\\anaconda3\\envs\\rag\\lib\\site-packages (from jsonpatch<2.0,>=1.33->langchain-core) (3.0.0)\n",
      "Requirement already satisfied: langchain-text-splitters<1.0.0,>=0.3.6 in c:\\users\\jyseo\\anaconda3\\envs\\rag\\lib\\site-packages (from langchain<1.0.0,>=0.3.19->langchain-community) (0.3.6)\n",
      "Requirement already satisfied: httpx<1,>=0.23.0 in c:\\users\\jyseo\\anaconda3\\envs\\rag\\lib\\site-packages (from langsmith<0.4,>=0.1.125->langchain-core) (0.28.1)\n",
      "Requirement already satisfied: orjson<4.0.0,>=3.9.14 in c:\\users\\jyseo\\anaconda3\\envs\\rag\\lib\\site-packages (from langsmith<0.4,>=0.1.125->langchain-core) (3.10.15)\n",
      "Requirement already satisfied: requests-toolbelt<2.0.0,>=1.0.0 in c:\\users\\jyseo\\anaconda3\\envs\\rag\\lib\\site-packages (from langsmith<0.4,>=0.1.125->langchain-core) (1.0.0)\n",
      "Requirement already satisfied: zstandard<0.24.0,>=0.23.0 in c:\\users\\jyseo\\anaconda3\\envs\\rag\\lib\\site-packages (from langsmith<0.4,>=0.1.125->langchain-core) (0.23.0)\n",
      "Requirement already satisfied: anyio<5,>=3.5.0 in c:\\users\\jyseo\\anaconda3\\envs\\rag\\lib\\site-packages (from openai<2.0.0,>=1.58.1->langchain_openai) (4.8.0)\n",
      "Requirement already satisfied: distro<2,>=1.7.0 in c:\\users\\jyseo\\anaconda3\\envs\\rag\\lib\\site-packages (from openai<2.0.0,>=1.58.1->langchain_openai) (1.9.0)\n",
      "Requirement already satisfied: jiter<1,>=0.4.0 in c:\\users\\jyseo\\anaconda3\\envs\\rag\\lib\\site-packages (from openai<2.0.0,>=1.58.1->langchain_openai) (0.8.2)\n",
      "Requirement already satisfied: sniffio in c:\\users\\jyseo\\anaconda3\\envs\\rag\\lib\\site-packages (from openai<2.0.0,>=1.58.1->langchain_openai) (1.3.1)\n",
      "Requirement already satisfied: tqdm>4 in c:\\users\\jyseo\\anaconda3\\envs\\rag\\lib\\site-packages (from openai<2.0.0,>=1.58.1->langchain_openai) (4.67.1)\n",
      "Requirement already satisfied: annotated-types>=0.6.0 in c:\\users\\jyseo\\anaconda3\\envs\\rag\\lib\\site-packages (from pydantic<3.0.0,>=2.5.2->langchain-core) (0.7.0)\n",
      "Requirement already satisfied: pydantic-core==2.27.2 in c:\\users\\jyseo\\anaconda3\\envs\\rag\\lib\\site-packages (from pydantic<3.0.0,>=2.5.2->langchain-core) (2.27.2)\n",
      "Requirement already satisfied: python-dotenv>=0.21.0 in c:\\users\\jyseo\\anaconda3\\envs\\rag\\lib\\site-packages (from pydantic-settings<3.0.0,>=2.4.0->langchain-community) (1.0.1)\n",
      "Requirement already satisfied: charset-normalizer<4,>=2 in c:\\users\\jyseo\\anaconda3\\envs\\rag\\lib\\site-packages (from requests<3,>=2->langchain-community) (3.4.1)\n",
      "Requirement already satisfied: idna<4,>=2.5 in c:\\users\\jyseo\\anaconda3\\envs\\rag\\lib\\site-packages (from requests<3,>=2->langchain-community) (3.10)\n",
      "Requirement already satisfied: urllib3<3,>=1.21.1 in c:\\users\\jyseo\\anaconda3\\envs\\rag\\lib\\site-packages (from requests<3,>=2->langchain-community) (2.3.0)\n",
      "Requirement already satisfied: certifi>=2017.4.17 in c:\\users\\jyseo\\anaconda3\\envs\\rag\\lib\\site-packages (from requests<3,>=2->langchain-community) (2025.1.31)\n",
      "Requirement already satisfied: greenlet!=0.4.17 in c:\\users\\jyseo\\anaconda3\\envs\\rag\\lib\\site-packages (from SQLAlchemy<3,>=1.4->langchain-community) (3.1.1)\n",
      "Requirement already satisfied: regex>=2022.1.18 in c:\\users\\jyseo\\anaconda3\\envs\\rag\\lib\\site-packages (from tiktoken<1,>=0.7->langchain_openai) (2024.11.6)\n",
      "Requirement already satisfied: exceptiongroup>=1.0.2 in c:\\users\\jyseo\\anaconda3\\envs\\rag\\lib\\site-packages (from anyio<5,>=3.5.0->openai<2.0.0,>=1.58.1->langchain_openai) (1.2.2)\n",
      "Requirement already satisfied: httpcore==1.* in c:\\users\\jyseo\\anaconda3\\envs\\rag\\lib\\site-packages (from httpx<1,>=0.23.0->langsmith<0.4,>=0.1.125->langchain-core) (1.0.7)\n",
      "Requirement already satisfied: h11<0.15,>=0.13 in c:\\users\\jyseo\\anaconda3\\envs\\rag\\lib\\site-packages (from httpcore==1.*->httpx<1,>=0.23.0->langsmith<0.4,>=0.1.125->langchain-core) (0.14.0)\n",
      "Requirement already satisfied: colorama in c:\\users\\jyseo\\anaconda3\\envs\\rag\\lib\\site-packages (from tqdm>4->openai<2.0.0,>=1.58.1->langchain_openai) (0.4.6)\n",
      "Requirement already satisfied: mypy-extensions>=0.3.0 in c:\\users\\jyseo\\anaconda3\\envs\\rag\\lib\\site-packages (from typing-inspect<1,>=0.4.0->dataclasses-json<0.7,>=0.5.7->langchain-community) (1.0.0)\n",
      "Using cached json_repair-0.39.0-py3-none-any.whl (20 kB)\n",
      "Using cached langchain_experimental-0.3.4-py3-none-any.whl (209 kB)\n",
      "Installing collected packages: json-repair, langchain-experimental\n",
      "Successfully installed json-repair-0.39.0 langchain-experimental-0.3.4\n"
     ]
    }
   ],
   "source": [
    "!pip install --upgrade json-repair networkx langchain-core langchain-experimental langchain-community langchain_openai"
   ]
  },
  {
   "cell_type": "code",
   "execution_count": 2,
   "metadata": {
    "id": "ltHHEvUzENBS"
   },
   "outputs": [],
   "source": [
    "import os\n",
    "os.environ[\"OPENAI_API_KEY\"] = \"sk\" # openai 키 입력, os.environ을 사용하여 환경 변수에 OpenAI API 키를 설정\n",
    "\n",
    "from langchain_openai import ChatOpenAI\n",
    "llm = ChatOpenAI(  # ChatOpenAI 클래스를 사용하여 OpenAI의 GPT-4o 모델을 호출\n",
    "    model=\"gpt-4o\",\n",
    "    temperature=0,  # 모델의 출력을 일관되게 유지 (창의성을 최소화)\n",
    ")\n",
    "\n",
    "# text 변수에 마리 퀴리에 대한 설명을 저장\n",
    "text = \"\"\"\n",
    "마리 퀴리(Marie Curie)는 1867년 태어난 폴란드 출신으로, 이후 프랑스로 귀화한 물리학자이자 화학자입니다. 그녀는 방사능에 관한 선구적인 연구를 수행하였습니다.\n",
    "그녀는 노벨상을 수상한 최초의 여성, 두 번이나 노벨상을 수상한 최초의 인물, 그리고 두 개의 과학 분야에서 노벨상을 수상한 유일한 인물입니다.\n",
    "첫 번째 노벨상은 남편 피에르 퀴리(Pierre Curie) 와 공동으로 수상하였으며, 이는 역사상 최초로 부부가 함께 노벨상을 수상한 사례였습니다. 이후 퀴리 가문은 총 5개의 노벨상을 배출하며 학문의 업적을 이어갔습니다.\n",
    "또한, 1906년에는 파리 대학교(Université de Paris)에서 최초의 여성 교수가 되며 학계에서 또 한 번의 중요한 이정표를 세웠습니다.\n",
    "\"\"\"  "
   ]
  },
  {
   "cell_type": "code",
   "execution_count": 3,
   "metadata": {
    "id": "aWvTjdKaET_j"
   },
   "outputs": [],
   "source": [
    "from langchain_core.documents import Document\n",
    "documents = [Document(page_content=text)] # 이전에 정의한 text (마리 퀴리에 대한 설명)를 문서 객체로 변환합니다\n",
    "\n",
    "from langchain_experimental.graph_transformers import LLMGraphTransformer # \"문서(마리 퀴리를 설명하는 text)에서 개념과 관계를 추출하여 그래프 데이터로 변환\n",
    "llm_transformer = LLMGraphTransformer(llm=llm) \n",
    "graph_documents = llm_transformer.convert_to_graph_documents(documents) # 텍스트 문서를 그래프 구조로 변환, 결과는 graph_documents에 저장되며, 노드(Node)와 엣지(Edge)로 표현될 수 있습니다."
   ]
  },
  {
   "cell_type": "code",
   "execution_count": 9,
   "metadata": {
    "id": "y-hkyWNKEXTs"
   },
   "outputs": [],
   "source": [
    "llm_transformer_filtered = LLMGraphTransformer(\n",
    "    llm=llm,\n",
    "    allowed_nodes=[\"Person\", \"Country\", \"Organization\"],\n",
    "    allowed_relationships=[\"NATIONALITY\", \"LOCATED_IN\", \"WORKED_AT\", \"SPOUSE\"],\n",
    ")\n",
    "graph_documents_filtered = llm_transformer_filtered.convert_to_graph_documents(\n",
    "    documents\n",
    ") # 허용된 개념과 관계만 포함된 그래프 데이터가 생성"
   ]
  },
  {
   "cell_type": "code",
   "execution_count": 11,
   "metadata": {
    "id": "unESy4yBEXXD"
   },
   "outputs": [],
   "source": [
    "from langchain_community.graphs.networkx_graph import NetworkxEntityGraph\n",
    "graph = NetworkxEntityGraph() # NetworkxEntityGraph() 객체를 생성하여 빈 그래프를 생성\n",
    "\n",
    "# 그래프에 노드 추가\n",
    "for node in graph_documents_filtered[0].nodes: # node에 LLM이 추출한 개념(노드)을 저장\n",
    "    graph.add_node(node.id) # NetworkX 그래프에 노드를 추가\n",
    "\n",
    "# 그래프에 엣지 추가\n",
    "for edge in graph_documents_filtered[0].relationships:\n",
    "    graph._graph.add_edge(\n",
    "            edge.source.id, # 관계의 출발점\n",
    "            edge.target.id, # 관계의 도착점\n",
    "            relation=edge.type, # 관계의 종류\n",
    "        )"
   ]
  },
  {
   "cell_type": "code",
   "execution_count": 13,
   "metadata": {
    "id": "8d6wWPn7EbFf"
   },
   "outputs": [],
   "source": [
    "from langchain.chains import GraphQAChain # 그래프 데이터에 대한 질의응답(QA)을 수행하는 랭체인의 체인\n",
    "\n",
    "# LLM과 그래프를 연결하여 Q&A 체인 생성\n",
    "chain = GraphQAChain.from_llm( \n",
    "    llm=llm,\n",
    "    graph=graph, # NetworkXEntityGraph에서 생성한 그래프 데이터 사용\n",
    "    verbose=True\n",
    ")"
   ]
  },
  {
   "cell_type": "code",
   "execution_count": 15,
   "metadata": {
    "colab": {
     "base_uri": "https://localhost:8080/",
     "height": 304
    },
    "id": "XkoYVcmsEc3t",
    "outputId": "168bbadf-5844-492c-f6d6-e6a6c314180d"
   },
   "outputs": [
    {
     "name": "stdout",
     "output_type": "stream",
     "text": [
      "\n",
      "\n",
      "\u001b[1m> Entering new GraphQAChain chain...\u001b[0m\n",
      "Entities Extracted:\n",
      "\u001b[32;1m\u001b[1;3mMarie Curie\u001b[0m\n",
      "Full Context:\n",
      "\u001b[32;1m\u001b[1;3mMarie Curie NATIONALITY Poland\n",
      "Marie Curie NATIONALITY France\n",
      "Marie Curie SPOUSE Pierre Curie\n",
      "Marie Curie WORKED_AT Université De Paris\u001b[0m\n",
      "\n",
      "\u001b[1m> Finished chain.\u001b[0m\n"
     ]
    },
    {
     "data": {
      "text/plain": [
       "{'query': 'Marie Curie가 누구야?',\n",
       " 'result': 'Marie Curie는 폴란드와 프랑스 국적을 가진 과학자입니다. 그녀는 피에르 퀴리와 결혼했으며, 파리 대학교에서 일했습니다.'}"
      ]
     },
     "execution_count": 15,
     "metadata": {},
     "output_type": "execute_result"
    }
   ],
   "source": [
    "question = \"\"\"Marie Curie가 누구야?\"\"\"\n",
    "chain.invoke(question)"
   ]
  },
  {
   "cell_type": "code",
   "execution_count": 16,
   "metadata": {},
   "outputs": [
    {
     "name": "stdout",
     "output_type": "stream",
     "text": [
      "\n",
      "\n",
      "\u001b[1m> Entering new GraphQAChain chain...\u001b[0m\n",
      "Entities Extracted:\n",
      "\u001b[32;1m\u001b[1;3mMarie Curie\u001b[0m\n",
      "Full Context:\n",
      "\u001b[32;1m\u001b[1;3mMarie Curie NATIONALITY Poland\n",
      "Marie Curie NATIONALITY France\n",
      "Marie Curie SPOUSE Pierre Curie\n",
      "Marie Curie WORKED_AT Université De Paris\u001b[0m\n",
      "\n",
      "\u001b[1m> Finished chain.\u001b[0m\n"
     ]
    },
    {
     "data": {
      "text/plain": [
       "{'query': 'Marie Curie가 태어난 곳은?',\n",
       " 'result': 'Marie Curie의 출생지는 주어진 정보에 포함되어 있지 않습니다.'}"
      ]
     },
     "execution_count": 16,
     "metadata": {},
     "output_type": "execute_result"
    }
   ],
   "source": [
    "question = \"\"\"Marie Curie가 태어난 곳은?\"\"\"\n",
    "chain.invoke(question)"
   ]
  },
  {
   "cell_type": "code",
   "execution_count": 17,
   "metadata": {},
   "outputs": [
    {
     "name": "stdout",
     "output_type": "stream",
     "text": [
      "\n",
      "\n",
      "\u001b[1m> Entering new GraphQAChain chain...\u001b[0m\n",
      "Entities Extracted:\n",
      "\u001b[32;1m\u001b[1;3mMarie Curie\u001b[0m\n",
      "Full Context:\n",
      "\u001b[32;1m\u001b[1;3mMarie Curie NATIONALITY Poland\n",
      "Marie Curie NATIONALITY France\n",
      "Marie Curie SPOUSE Pierre Curie\n",
      "Marie Curie WORKED_AT Université De Paris\u001b[0m\n",
      "\n",
      "\u001b[1m> Finished chain.\u001b[0m\n"
     ]
    },
    {
     "data": {
      "text/plain": [
       "{'query': 'Marie Curie의 출신은?', 'result': 'Marie Curie의 출신은 폴란드입니다.'}"
      ]
     },
     "execution_count": 17,
     "metadata": {},
     "output_type": "execute_result"
    }
   ],
   "source": [
    "question = \"\"\"Marie Curie의 출신은?\"\"\"\n",
    "chain.invoke(question)"
   ]
  },
  {
   "cell_type": "code",
   "execution_count": null,
   "metadata": {},
   "outputs": [],
   "source": []
  }
 ],
 "metadata": {
  "colab": {
   "provenance": []
  },
  "kernelspec": {
   "display_name": "rag",
   "language": "python",
   "name": "rag"
  },
  "language_info": {
   "codemirror_mode": {
    "name": "ipython",
    "version": 3
   },
   "file_extension": ".py",
   "mimetype": "text/x-python",
   "name": "python",
   "nbconvert_exporter": "python",
   "pygments_lexer": "ipython3",
   "version": "3.10.16"
  }
 },
 "nbformat": 4,
 "nbformat_minor": 4
}
