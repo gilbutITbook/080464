{
 "cells": [
  {
   "cell_type": "code",
   "execution_count": 2,
   "id": "052e3921-ae8a-452c-aaac-b57c2df44815",
   "metadata": {
    "scrolled": true
   },
   "outputs": [
    {
     "name": "stdout",
     "output_type": "stream",
     "text": [
      "Requirement already satisfied: langchain in c:\\users\\jyseo\\anaconda3\\envs\\graph\\lib\\site-packages (0.3.18)\n",
      "Requirement already satisfied: langchain-community in c:\\users\\jyseo\\anaconda3\\envs\\graph\\lib\\site-packages (0.3.17)\n",
      "Collecting langchain-neo4j\n",
      "  Using cached langchain_neo4j-0.3.0-py3-none-any.whl.metadata (4.5 kB)\n",
      "Requirement already satisfied: langchain_openai in c:\\users\\jyseo\\anaconda3\\envs\\graph\\lib\\site-packages (0.3.4)\n",
      "Requirement already satisfied: pypdf in c:\\users\\jyseo\\anaconda3\\envs\\graph\\lib\\site-packages (5.2.0)\n",
      "Requirement already satisfied: langchain-core<1.0.0,>=0.3.34 in c:\\users\\jyseo\\anaconda3\\envs\\graph\\lib\\site-packages (from langchain) (0.3.34)\n",
      "Requirement already satisfied: langchain-text-splitters<1.0.0,>=0.3.6 in c:\\users\\jyseo\\anaconda3\\envs\\graph\\lib\\site-packages (from langchain) (0.3.6)\n",
      "Requirement already satisfied: langsmith<0.4,>=0.1.17 in c:\\users\\jyseo\\anaconda3\\envs\\graph\\lib\\site-packages (from langchain) (0.3.2)\n",
      "Requirement already satisfied: pydantic<3.0.0,>=2.7.4 in c:\\users\\jyseo\\anaconda3\\envs\\graph\\lib\\site-packages (from langchain) (2.10.6)\n",
      "Requirement already satisfied: SQLAlchemy<3,>=1.4 in c:\\users\\jyseo\\anaconda3\\envs\\graph\\lib\\site-packages (from langchain) (2.0.37)\n",
      "Requirement already satisfied: requests<3,>=2 in c:\\users\\jyseo\\anaconda3\\envs\\graph\\lib\\site-packages (from langchain) (2.32.3)\n",
      "Requirement already satisfied: PyYAML>=5.3 in c:\\users\\jyseo\\anaconda3\\envs\\graph\\lib\\site-packages (from langchain) (6.0.2)\n",
      "Requirement already satisfied: aiohttp<4.0.0,>=3.8.3 in c:\\users\\jyseo\\anaconda3\\envs\\graph\\lib\\site-packages (from langchain) (3.11.11)\n",
      "Requirement already satisfied: tenacity!=8.4.0,<10,>=8.1.0 in c:\\users\\jyseo\\anaconda3\\envs\\graph\\lib\\site-packages (from langchain) (9.0.0)\n",
      "Requirement already satisfied: numpy<2,>=1.26.4 in c:\\users\\jyseo\\anaconda3\\envs\\graph\\lib\\site-packages (from langchain) (1.26.4)\n",
      "Requirement already satisfied: async-timeout<5.0.0,>=4.0.0 in c:\\users\\jyseo\\anaconda3\\envs\\graph\\lib\\site-packages (from langchain) (4.0.3)\n",
      "Requirement already satisfied: dataclasses-json<0.7,>=0.5.7 in c:\\users\\jyseo\\anaconda3\\envs\\graph\\lib\\site-packages (from langchain-community) (0.6.7)\n",
      "Requirement already satisfied: pydantic-settings<3.0.0,>=2.4.0 in c:\\users\\jyseo\\anaconda3\\envs\\graph\\lib\\site-packages (from langchain-community) (2.7.1)\n",
      "Requirement already satisfied: httpx-sse<1.0.0,>=0.4.0 in c:\\users\\jyseo\\anaconda3\\envs\\graph\\lib\\site-packages (from langchain-community) (0.4.0)\n",
      "Requirement already satisfied: neo4j<6.0.0,>=5.25.0 in c:\\users\\jyseo\\anaconda3\\envs\\graph\\lib\\site-packages (from langchain-neo4j) (5.28.0)\n",
      "Requirement already satisfied: openai<2.0.0,>=1.58.1 in c:\\users\\jyseo\\anaconda3\\envs\\graph\\lib\\site-packages (from langchain_openai) (1.61.1)\n",
      "Requirement already satisfied: tiktoken<1,>=0.7 in c:\\users\\jyseo\\anaconda3\\envs\\graph\\lib\\site-packages (from langchain_openai) (0.8.0)\n",
      "Requirement already satisfied: typing_extensions>=4.0 in c:\\users\\jyseo\\anaconda3\\envs\\graph\\lib\\site-packages (from pypdf) (4.12.2)\n",
      "Requirement already satisfied: aiohappyeyeballs>=2.3.0 in c:\\users\\jyseo\\anaconda3\\envs\\graph\\lib\\site-packages (from aiohttp<4.0.0,>=3.8.3->langchain) (2.4.4)\n",
      "Requirement already satisfied: aiosignal>=1.1.2 in c:\\users\\jyseo\\anaconda3\\envs\\graph\\lib\\site-packages (from aiohttp<4.0.0,>=3.8.3->langchain) (1.3.2)\n",
      "Requirement already satisfied: attrs>=17.3.0 in c:\\users\\jyseo\\anaconda3\\envs\\graph\\lib\\site-packages (from aiohttp<4.0.0,>=3.8.3->langchain) (25.1.0)\n",
      "Requirement already satisfied: frozenlist>=1.1.1 in c:\\users\\jyseo\\anaconda3\\envs\\graph\\lib\\site-packages (from aiohttp<4.0.0,>=3.8.3->langchain) (1.5.0)\n",
      "Requirement already satisfied: multidict<7.0,>=4.5 in c:\\users\\jyseo\\anaconda3\\envs\\graph\\lib\\site-packages (from aiohttp<4.0.0,>=3.8.3->langchain) (6.1.0)\n",
      "Requirement already satisfied: propcache>=0.2.0 in c:\\users\\jyseo\\anaconda3\\envs\\graph\\lib\\site-packages (from aiohttp<4.0.0,>=3.8.3->langchain) (0.2.1)\n",
      "Requirement already satisfied: yarl<2.0,>=1.17.0 in c:\\users\\jyseo\\anaconda3\\envs\\graph\\lib\\site-packages (from aiohttp<4.0.0,>=3.8.3->langchain) (1.18.3)\n",
      "Requirement already satisfied: marshmallow<4.0.0,>=3.18.0 in c:\\users\\jyseo\\anaconda3\\envs\\graph\\lib\\site-packages (from dataclasses-json<0.7,>=0.5.7->langchain-community) (3.26.0)\n",
      "Requirement already satisfied: typing-inspect<1,>=0.4.0 in c:\\users\\jyseo\\anaconda3\\envs\\graph\\lib\\site-packages (from dataclasses-json<0.7,>=0.5.7->langchain-community) (0.9.0)\n",
      "Requirement already satisfied: jsonpatch<2.0,>=1.33 in c:\\users\\jyseo\\anaconda3\\envs\\graph\\lib\\site-packages (from langchain-core<1.0.0,>=0.3.34->langchain) (1.33)\n",
      "Requirement already satisfied: packaging<25,>=23.2 in c:\\users\\jyseo\\anaconda3\\envs\\graph\\lib\\site-packages (from langchain-core<1.0.0,>=0.3.34->langchain) (24.2)\n",
      "Requirement already satisfied: httpx<1,>=0.23.0 in c:\\users\\jyseo\\anaconda3\\envs\\graph\\lib\\site-packages (from langsmith<0.4,>=0.1.17->langchain) (0.28.1)\n",
      "Requirement already satisfied: orjson<4.0.0,>=3.9.14 in c:\\users\\jyseo\\anaconda3\\envs\\graph\\lib\\site-packages (from langsmith<0.4,>=0.1.17->langchain) (3.10.15)\n",
      "Requirement already satisfied: requests-toolbelt<2.0.0,>=1.0.0 in c:\\users\\jyseo\\anaconda3\\envs\\graph\\lib\\site-packages (from langsmith<0.4,>=0.1.17->langchain) (1.0.0)\n",
      "Requirement already satisfied: zstandard<0.24.0,>=0.23.0 in c:\\users\\jyseo\\anaconda3\\envs\\graph\\lib\\site-packages (from langsmith<0.4,>=0.1.17->langchain) (0.23.0)\n",
      "Requirement already satisfied: pytz in c:\\users\\jyseo\\anaconda3\\envs\\graph\\lib\\site-packages (from neo4j<6.0.0,>=5.25.0->langchain-neo4j) (2024.2)\n",
      "Requirement already satisfied: anyio<5,>=3.5.0 in c:\\users\\jyseo\\anaconda3\\envs\\graph\\lib\\site-packages (from openai<2.0.0,>=1.58.1->langchain_openai) (4.8.0)\n",
      "Requirement already satisfied: distro<2,>=1.7.0 in c:\\users\\jyseo\\anaconda3\\envs\\graph\\lib\\site-packages (from openai<2.0.0,>=1.58.1->langchain_openai) (1.9.0)\n",
      "Requirement already satisfied: jiter<1,>=0.4.0 in c:\\users\\jyseo\\anaconda3\\envs\\graph\\lib\\site-packages (from openai<2.0.0,>=1.58.1->langchain_openai) (0.8.2)\n",
      "Requirement already satisfied: sniffio in c:\\users\\jyseo\\anaconda3\\envs\\graph\\lib\\site-packages (from openai<2.0.0,>=1.58.1->langchain_openai) (1.3.1)\n",
      "Requirement already satisfied: tqdm>4 in c:\\users\\jyseo\\anaconda3\\envs\\graph\\lib\\site-packages (from openai<2.0.0,>=1.58.1->langchain_openai) (4.67.1)\n",
      "Requirement already satisfied: annotated-types>=0.6.0 in c:\\users\\jyseo\\anaconda3\\envs\\graph\\lib\\site-packages (from pydantic<3.0.0,>=2.7.4->langchain) (0.7.0)\n",
      "Requirement already satisfied: pydantic-core==2.27.2 in c:\\users\\jyseo\\anaconda3\\envs\\graph\\lib\\site-packages (from pydantic<3.0.0,>=2.7.4->langchain) (2.27.2)\n",
      "Requirement already satisfied: python-dotenv>=0.21.0 in c:\\users\\jyseo\\anaconda3\\envs\\graph\\lib\\site-packages (from pydantic-settings<3.0.0,>=2.4.0->langchain-community) (1.0.1)\n",
      "Requirement already satisfied: charset-normalizer<4,>=2 in c:\\users\\jyseo\\anaconda3\\envs\\graph\\lib\\site-packages (from requests<3,>=2->langchain) (3.4.1)\n",
      "Requirement already satisfied: idna<4,>=2.5 in c:\\users\\jyseo\\anaconda3\\envs\\graph\\lib\\site-packages (from requests<3,>=2->langchain) (3.10)\n",
      "Requirement already satisfied: urllib3<3,>=1.21.1 in c:\\users\\jyseo\\anaconda3\\envs\\graph\\lib\\site-packages (from requests<3,>=2->langchain) (2.3.0)\n",
      "Requirement already satisfied: certifi>=2017.4.17 in c:\\users\\jyseo\\anaconda3\\envs\\graph\\lib\\site-packages (from requests<3,>=2->langchain) (2024.12.14)\n",
      "Requirement already satisfied: greenlet!=0.4.17 in c:\\users\\jyseo\\anaconda3\\envs\\graph\\lib\\site-packages (from SQLAlchemy<3,>=1.4->langchain) (3.1.1)\n",
      "Requirement already satisfied: regex>=2022.1.18 in c:\\users\\jyseo\\anaconda3\\envs\\graph\\lib\\site-packages (from tiktoken<1,>=0.7->langchain_openai) (2024.11.6)\n",
      "Requirement already satisfied: exceptiongroup>=1.0.2 in c:\\users\\jyseo\\anaconda3\\envs\\graph\\lib\\site-packages (from anyio<5,>=3.5.0->openai<2.0.0,>=1.58.1->langchain_openai) (1.2.0)\n",
      "Requirement already satisfied: httpcore==1.* in c:\\users\\jyseo\\anaconda3\\envs\\graph\\lib\\site-packages (from httpx<1,>=0.23.0->langsmith<0.4,>=0.1.17->langchain) (1.0.7)\n",
      "Requirement already satisfied: h11<0.15,>=0.13 in c:\\users\\jyseo\\anaconda3\\envs\\graph\\lib\\site-packages (from httpcore==1.*->httpx<1,>=0.23.0->langsmith<0.4,>=0.1.17->langchain) (0.14.0)\n",
      "Requirement already satisfied: jsonpointer>=1.9 in c:\\users\\jyseo\\anaconda3\\envs\\graph\\lib\\site-packages (from jsonpatch<2.0,>=1.33->langchain-core<1.0.0,>=0.3.34->langchain) (3.0.0)\n",
      "Requirement already satisfied: colorama in c:\\users\\jyseo\\anaconda3\\envs\\graph\\lib\\site-packages (from tqdm>4->openai<2.0.0,>=1.58.1->langchain_openai) (0.4.6)\n",
      "Requirement already satisfied: mypy-extensions>=0.3.0 in c:\\users\\jyseo\\anaconda3\\envs\\graph\\lib\\site-packages (from typing-inspect<1,>=0.4.0->dataclasses-json<0.7,>=0.5.7->langchain-community) (1.0.0)\n",
      "Using cached langchain_neo4j-0.3.0-py3-none-any.whl (38 kB)\n",
      "Installing collected packages: langchain-neo4j\n",
      "Successfully installed langchain-neo4j-0.3.0\n"
     ]
    }
   ],
   "source": [
    "!pip install langchain langchain-community langchain-neo4j langchain_openai pypdf"
   ]
  },
  {
   "cell_type": "code",
   "execution_count": 3,
   "id": "6c67c23f-916b-4e61-9c93-5ea79c569054",
   "metadata": {},
   "outputs": [],
   "source": [
    "import os\n",
    "os.environ[\"OPENAI_API_KEY\"] = \"sk\" #openai 키 입력"
   ]
  },
  {
   "cell_type": "code",
   "execution_count": 4,
   "id": "fd82f992-e94f-4245-a2e9-0085bd3433ae",
   "metadata": {},
   "outputs": [
    {
     "name": "stdout",
     "output_type": "stream",
     "text": [
      "--------------------------------------------------------------------------------\n",
      "Score:  0.9458465576171875\n",
      "제어기 등 ICT 기기 산업을 활성화 시키는데 필수적이다.\n",
      "ICT 핵심부품 및 기기 표준화\n",
      " 스마트온실 단체표준 제정\n",
      "파이팅! 한국형 스마트팜\n",
      "사회 전반에서 4차 산업 혁명에 대한 많은 관심을 가지고 사물인터넷, 빅데이터, 인공지능, 로봇 등을 활용하는 분야를\n",
      "확장하고 있다. 농업분야에서도 스마트 기기를 농사에 효과적으로 접목할 수 있는 ICT분야 연구개발이 필요하다.\n",
      "첨단화되는 스마트 기기와 다양한 실시간 정보를 활용해 편리성과 생산성을 높이는 스마트팜 연구개발은 국내농가의\n",
      "소득증대뿐만 아니라 농업 생산기술과 시스템 수출의 길을 열고, 우리 농업기술의 국제경쟁력을 높이는 데에도 크게 기여할\n",
      "것으로 기대 된다. 가까운 장래에 한국형 스마트 팜의 기반이 구축되고 우리 경제의 미래 성장 동력으로 자리매김 할 우리\n",
      "농업의 모습을 기대해 본다.\n",
      "--------------------------------------------------------------------------------\n",
      "--------------------------------------------------------------------------------\n",
      "Score:  0.928070068359375\n",
      "빅데이터를 활용한 생산성 향상\n",
      "3세대 - 에너지 최적화 및 로봇 자동화 등 스마트팜 통합시스템 수출\n",
      "한국형 스마트팜을 기술적으로 완성하는 3세대 스마트팜 모델은 1세대 편의성 향상과 2세대 생산성 향상 기술의 토대 위에 온실 및\n",
      "축사에너지 시스템의 최적화와 다양한 로봇을 활용한 무인화․자동화시스템을 구현해 스마트팜 전 과정의 통합제어 및 생산 관리를 가능하게\n",
      "하는 수준이다.\n",
      "세대별 한국형 스마트팜 기술 구성\n",
      "3세대 모델은 국내 스마트팜 농가의 규모화와 생력화를 통한 생산비 절감으로 경쟁력을 향상할 뿐만 아니라 지능형 생육관리모델을 탑재한\n",
      "비닐하우스 중심의 저비용 고성능 한국형 스마트팜이다. 향후 수출을 통해 우리나라가 농업 선진국 및 농업 수출국으로서 세계시장에서\n",
      "지위를 확보하는데 핵심 역할을 할 것으로 기대 한다.\n",
      "3세대 스마트팜 기술\n",
      "한국형 스마트팜 확산 - ICT 기기 규격화・표준화\n",
      "현재까지 보급되고 있는 ICT 기기들은 업체마다 제품의 규격이 달라 서로 호환되지 않으므로 스마트팜 농가의 통합관리 및 유지보수가\n",
      "어려운 단점이 있다. 시설원예 및 축산에 사용되는 각종 센서 및 제어기에 대하여 형식과 통신방식 등을 하나의 공동규격으로 통일하는\n",
      "표준화 작업이 추진되고 있다. 2016년까지 온실 ICT 장비 25종(제어기 9종, 센서 13종, 복합장비 3종)을 TTA 단체표준으로 등록하였고,\n",
      "2017년 농업기술실용화재단에서 검인증 방법을 수립하고 고시할 계획이다. 축산 관련 ICT 부품 및 장비는 센서류(2017년) 및\n",
      "사양관리설비(2018년)에 대하여 단체표준화가 추진 중에 있다.  \n",
      "농업 ICT 부품 및 장비 표준화는 국내농가의 온실 및 축사의 유지보수를 용이하게 하고 한국형 스마트팜 글로벌화의 기반이 되는 센서 및\n",
      "--------------------------------------------------------------------------------\n",
      "--------------------------------------------------------------------------------\n",
      "Score:  0.926513671875\n",
      "차세대 한국형스마트팜 개발\n",
      "국립농업과학원 농업공학부 스마트팜개발과 이현동 연구관\n",
      "한국형 스마트팜 개발 프로젝트 !\n",
      "우리나라 농업은 고령화와 높은 노동강도로 인해 청년인구의 유입이 어려운 구조로 타 분야보다 생산인구 절벽화가 더욱\n",
      "가시화되고 있다. 이에 대한 대안으로 제시되고 있는 스마트팜은 사물인터넷, 빅데이터, 인공지능, 로봇 등을 활용하여\n",
      "농산물의 생육환경을 최적상태로 관리하고 노동력 절감과 생산성 향상을 구현하는 효율적인 농업형태이다. \n",
      "차세대 한국형 스마트팜 기술개발 프로젝트는 4기관 19개 전담부서가 협업하여 핵심 요소 및 원천 기반기술의 확보를 위해\n",
      "연구 역량을 집중하고 있고 국내 농업여건에 적합하게 기술수준별로 스마트팜 모델을 3가지 단계로 구분하여 개발을\n",
      "추진하고 있다. 단계별 스마트팜은 1세대(편리성 증진), 2세대(생산성 향상-네덜란드추격형), 3세대(글로벌산업화-플랜트\n",
      "수출형)로 구분되고 기술의 단계적 개발과 실용화 계획을 통해 노동력과 농자재의 사용을 줄이고, 생산성과 품질을\n",
      "제고함으로 농가소득과 연계하며, 나아가 영농현장의 애로와 연관 산업의 문제를 동시에 해결해 간다는 계획이다.\n",
      "차세대 한국형 스마트팜 융복합 프로젝트\n",
      "세대별 스마트팜 모델의 특징은 ?\n",
      "차세대 한국형 스마트팜 프로젝트는 외국의 선진 기술을 그대로 수입・적용하거나 단순 모방하지 않고 우리 농업 환경과\n",
      "현장 상황에 적합한 기술을 개발하여 농업선진국과 경쟁할 수 있는 독자적인 농업생산기술을 확보하는 것이다.\n",
      "1세대 스마트팜 - 원격 모니터링과 제어로 편의성 향상\n",
      "원격 관리를 이용한 농업인 편리성 증대를 목적으로 현재까지 개발한 자동화 및 ICT 기술들을 영농여건과 농가수준에 맞추어 기본형과\n",
      "선택형으로 구분해 모델을 제시함으로써 농가의 필요에 따라 조건에 맞는 모델을 적용할 수 있도록 한 것이다.\n",
      "모델유형 주요기능 모델유형 주요기능 모델유형 주요기능\n",
      "1세대 스마트온실 모델 4종(기본형1, 선택형3)\n",
      "--------------------------------------------------------------------------------\n",
      "--------------------------------------------------------------------------------\n",
      "Score:  0.917877197265625\n",
      "2016년 개발 완료된 1세대 스마트팜 모델의 보급 확산을 위해 현장실증 연구와 신기술시범사업을 접목하여 추진하고\n",
      "있다. 시설원예 6품목, 버섯 1, 축산 2에 대하여 22개소(9.1ha)에서 현장실증연구가 진행 중이며, 2017년 35과제\n",
      "174개소에서 신기술보급사업이 수행되고 있다. 또한, 시범사업의 설치 및 실증 농가의 조건 등을 고려한 품목별 보급형\n",
      "모델을 설정하고, 1세대 모델의 적용과 실증과정을 거쳐 정리된 품목별 스마트팜 운영 매뉴얼을 2017년까지 개발하여\n",
      "보급할 계획이다.\n",
      "온실 환경제어시스템 구성\n",
      " 1세대 스마트팜 기술\n",
      "2세대 스마트팜 - 지능형 정밀생육관리로 생산성 향상\n",
      "농업선진국과 대등한 수준의 생산성을 확보하기 위해 식물의 생육 또는 동물의 생장 상태를 계측하고 측정자료를 빅데이터로 관리,\n",
      "인공지능이 동식물 생장모델을 이용하여 환경관리에 대한 의사결정을 하는 2세대 기술 개발이 필요하다.\n",
      "한국형 스마트 팜 2세대 모델 설계(안)\n",
      "관행 농업은 숙련된 재배자 또는 사육사의 경험과 지식에 의존하여 생산관리에 대한 의사결정을 하는 방식이었다. 2세대 스마트팜은 재배\n",
      "또는 사양관리 전문지식과 선도농가의 경험을 학습한 인공지능의 도움을 받아 현재 시기의 농장 환경에 최적화된 의사결정을 할 수 있게\n",
      "된다. 그러므로 재배 또는 사육하고 있는 작물과 가축에 대한 정밀한 생육관리가 가능해지고 품질과 생산량을 크게 향상할 수 있다. 한국형\n",
      "스마트팜 2세대 모델은 2018년까지 토마토재배와 돼지사육에 대한 스마트팜 모델 개발을 목표로 연구 개발이 진행되고 있으며, 향후 적용\n",
      "품목을 다양화 하고 2세대 모델의 현장 보급을 확대해 나갈 계획이다.\n",
      "기본형 환기/보온/영상감시 선택(1)형 관수 선택(2)형 난방\n",
      "선택(3)형 안전\n",
      "--------------------------------------------------------------------------------\n"
     ]
    }
   ],
   "source": [
    "from langchain.docstore.document import Document # 랭체인의 문서 객체\n",
    "from langchain.text_splitter import CharacterTextSplitter # 문서를 작은 청크(Chunk)로 분리\n",
    "from langchain.document_loaders import PyPDFLoader  # PDF 파일을 로드하고 텍스트를 추출\n",
    "from langchain_openai import OpenAIEmbeddings # OpenAI의 임베딩 모델을 사용하여 텍스트를 벡터로 변환\n",
    "from langchain.vectorstores import Neo4jVector # Neo4j 벡터 데이터베이스를 사용하여 검색\n",
    "\n",
    "# PDF 파일 로드하고 텍스트를 추출\n",
    "loader = PyPDFLoader(\"d:/data/차세대 한국형 스마트팜 개발.pdf\")\n",
    "\n",
    "# PDF에서 문서를 로드\n",
    "documents = loader.load() # PDF 파일에서 텍스트를 추출하여 documents에 저장\n",
    "\n",
    "text_splitter = CharacterTextSplitter(chunk_size=1000, chunk_overlap=0) # 텍스트를 1000자씩 분할, 중복 없음\n",
    "docs = text_splitter.split_documents(documents) # PDF에서 추출한 문서를 청크(Chunk)로 변환하여 docs에 저장\n",
    "\n",
    "# OpenAI의 임베딩 모델을 사용하여 텍스트를 벡터로 변환\n",
    "embeddings = OpenAIEmbeddings()\n",
    "\n",
    "# Neo4j와 연결\n",
    "url = \"neo4j://localhost:7687\"  # Neo4j URI\n",
    "username = \"neo4j\"  # Neo4j 사용자명\n",
    "password = \"Young1457!\"  # Neo4j 비밀번호 입력\n",
    "\n",
    "db = Neo4jVector.from_documents(\n",
    "    docs, embeddings, url=url, username=username, password=password, database=\"neo4j\"\n",
    ") # Neo4j에 벡터 데이터를 저장하고 검색 가능하도록 설정\n",
    "\n",
    "query = \"스마트팜을 위한 ICT 기술은?\" # 사용자 질문\n",
    "docs_with_score = db.similarity_search_with_score(query, k=5) # 질문과 가장 유사한 문서 5개(k=5)를 검색\n",
    "\n",
    "# 검색된 문서들과 유사도 점수를 출력, score 값이 낮을수록 더 유사한 문서\n",
    "for doc, score in docs_with_score:\n",
    "    print(\"-\" * 80)\n",
    "    print(\"Score: \", score)\n",
    "    print(doc.page_content)\n",
    "    print(\"-\" * 80)"
   ]
  },
  {
   "cell_type": "code",
   "execution_count": 8,
   "id": "9cbad601-5421-4748-810e-08594cf34543",
   "metadata": {},
   "outputs": [
    {
     "name": "stdout",
     "output_type": "stream",
     "text": [
      "{'question': '스마트팜이란?', 'answer': '스마트팜은 사물인터넷, 빅데이터, 인공지능, 로봇 등을 활용하여 농산물의 생육환경을 최적상태로 관리하고 노동력 절감과 생산성 향상을 구현하는 효율적인 농업형태이다. 차세대 한국형 스마트팜은 4기관 19개 전담부서가 협업하여 핵심 요소 및 원천 기반기술의 확보를 위해 연구 역량을 집중하고 있으며, 국내 농업여건에 적합하게 기술수준별로 스마트팜 모델을 3가지 단계로 구분하여 개발을 추진하고 있다. 1세대 스마트팜은 원격 모니터링과 제어로 편의성을 향상시키는 것이 목적이다. 2세대 스마트팜은 지능형 정밀생육관리로 생산성을 향상시키는 것이 목표이며, 3세대는 에너지 최적화 및 로봇 자동화 등 스마트팜 통합시스템을 수출하는 것을 목표로 한다.\\n', 'sources': 'd:/data/차세대 한국형 스마트팜 개발.pdf'}\n"
     ]
    }
   ],
   "source": [
    "from langchain_openai import ChatOpenAI\n",
    "from langchain.chains import RetrievalQAWithSourcesChain\n",
    "\n",
    "# 사용자가 질문하면 Neo4j에서 관련 문서를 검색할 수 있도록 설정\n",
    "retriever = db.as_retriever() \n",
    "\n",
    "# Retrieval 기반 질의응답 체인 생성\n",
    "chain = RetrievalQAWithSourcesChain.from_chain_type(\n",
    "    ChatOpenAI(temperature=0),\n",
    "    chain_type=\"stuff\", # 검색된 문서를 하나로 결합하여 GPT에게 전달\n",
    "    retriever=retriever # Neo4j에서 검색된 문서를 기반으로 답변 생성\n",
    ")\n",
    "\n",
    "query = \"스마트팜이란?\"\n",
    "response = chain.invoke({\"question\": query}) # LLM 모델의 응답 반환\n",
    "print(response)"
   ]
  },
  {
   "cell_type": "code",
   "execution_count": 9,
   "id": "ea59ee78-ec71-40a2-aa32-7b9f31ae46e6",
   "metadata": {},
   "outputs": [
    {
     "name": "stdout",
     "output_type": "stream",
     "text": [
      "{'answer': \"I don't know.\\n\", 'sources': ''}\n"
     ]
    }
   ],
   "source": [
    "query = \"스마트팜을 위한 ICT 기술은?\"\n",
    "response = chain.invoke({\"question\": query}, return_only_outputs=True)\n",
    "print(response)"
   ]
  },
  {
   "cell_type": "code",
   "execution_count": 11,
   "id": "88c96978-175a-4c8f-b2a4-f2cf64d09ff1",
   "metadata": {},
   "outputs": [
    {
     "name": "stdout",
     "output_type": "stream",
     "text": [
      "{'answer': 'ICT 기기로는 제어기, 사물인터넷, 빅데이터, 인공지능, 로봇 등이 사용된다.\\n', 'sources': 'd:/data/차세대 한국형 스마트팜 개발.pdf'}\n"
     ]
    }
   ],
   "source": [
    "query = \"스마트팜을 위한 ICT 기기는 어떤 것들이 있어?\"\n",
    "response = chain.invoke({\"question\": query}, return_only_outputs=True)\n",
    "print(response)"
   ]
  },
  {
   "cell_type": "code",
   "execution_count": null,
   "id": "b5bb19b1-e801-45e9-84c2-ab2d2a877b88",
   "metadata": {},
   "outputs": [],
   "source": []
  }
 ],
 "metadata": {
  "kernelspec": {
   "display_name": "graph",
   "language": "python",
   "name": "graph"
  },
  "language_info": {
   "codemirror_mode": {
    "name": "ipython",
    "version": 3
   },
   "file_extension": ".py",
   "mimetype": "text/x-python",
   "name": "python",
   "nbconvert_exporter": "python",
   "pygments_lexer": "ipython3",
   "version": "3.10.16"
  }
 },
 "nbformat": 4,
 "nbformat_minor": 5
}
