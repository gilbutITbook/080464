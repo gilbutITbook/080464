{
 "cells": [
  {
   "cell_type": "code",
   "execution_count": 1,
   "id": "16db71f3-97dc-4ad0-8c97-5a12e31eff91",
   "metadata": {},
   "outputs": [
    {
     "name": "stdout",
     "output_type": "stream",
     "text": [
      "Requirement already satisfied: openai in c:\\users\\jyseo\\anaconda3\\envs\\graph\\lib\\site-packages (1.61.1)\n",
      "Requirement already satisfied: neo4j in c:\\users\\jyseo\\anaconda3\\envs\\graph\\lib\\site-packages (5.28.0)\n",
      "Requirement already satisfied: anyio<5,>=3.5.0 in c:\\users\\jyseo\\anaconda3\\envs\\graph\\lib\\site-packages (from openai) (4.8.0)\n",
      "Requirement already satisfied: distro<2,>=1.7.0 in c:\\users\\jyseo\\anaconda3\\envs\\graph\\lib\\site-packages (from openai) (1.9.0)\n",
      "Requirement already satisfied: httpx<1,>=0.23.0 in c:\\users\\jyseo\\anaconda3\\envs\\graph\\lib\\site-packages (from openai) (0.28.1)\n",
      "Requirement already satisfied: jiter<1,>=0.4.0 in c:\\users\\jyseo\\anaconda3\\envs\\graph\\lib\\site-packages (from openai) (0.8.2)\n",
      "Requirement already satisfied: pydantic<3,>=1.9.0 in c:\\users\\jyseo\\anaconda3\\envs\\graph\\lib\\site-packages (from openai) (2.10.6)\n",
      "Requirement already satisfied: sniffio in c:\\users\\jyseo\\anaconda3\\envs\\graph\\lib\\site-packages (from openai) (1.3.1)\n",
      "Requirement already satisfied: tqdm>4 in c:\\users\\jyseo\\anaconda3\\envs\\graph\\lib\\site-packages (from openai) (4.67.1)\n",
      "Requirement already satisfied: typing-extensions<5,>=4.11 in c:\\users\\jyseo\\anaconda3\\envs\\graph\\lib\\site-packages (from openai) (4.12.2)\n",
      "Requirement already satisfied: pytz in c:\\users\\jyseo\\anaconda3\\envs\\graph\\lib\\site-packages (from neo4j) (2024.2)\n",
      "Requirement already satisfied: exceptiongroup>=1.0.2 in c:\\users\\jyseo\\anaconda3\\envs\\graph\\lib\\site-packages (from anyio<5,>=3.5.0->openai) (1.2.0)\n",
      "Requirement already satisfied: idna>=2.8 in c:\\users\\jyseo\\anaconda3\\envs\\graph\\lib\\site-packages (from anyio<5,>=3.5.0->openai) (3.10)\n",
      "Requirement already satisfied: certifi in c:\\users\\jyseo\\anaconda3\\envs\\graph\\lib\\site-packages (from httpx<1,>=0.23.0->openai) (2024.12.14)\n",
      "Requirement already satisfied: httpcore==1.* in c:\\users\\jyseo\\anaconda3\\envs\\graph\\lib\\site-packages (from httpx<1,>=0.23.0->openai) (1.0.7)\n",
      "Requirement already satisfied: h11<0.15,>=0.13 in c:\\users\\jyseo\\anaconda3\\envs\\graph\\lib\\site-packages (from httpcore==1.*->httpx<1,>=0.23.0->openai) (0.14.0)\n",
      "Requirement already satisfied: annotated-types>=0.6.0 in c:\\users\\jyseo\\anaconda3\\envs\\graph\\lib\\site-packages (from pydantic<3,>=1.9.0->openai) (0.7.0)\n",
      "Requirement already satisfied: pydantic-core==2.27.2 in c:\\users\\jyseo\\anaconda3\\envs\\graph\\lib\\site-packages (from pydantic<3,>=1.9.0->openai) (2.27.2)\n",
      "Requirement already satisfied: colorama in c:\\users\\jyseo\\anaconda3\\envs\\graph\\lib\\site-packages (from tqdm>4->openai) (0.4.6)\n"
     ]
    }
   ],
   "source": [
    "!pip install openai neo4j"
   ]
  },
  {
   "cell_type": "code",
   "execution_count": 3,
   "id": "2f3456cf-9672-44e9-a50d-134b8a4726b8",
   "metadata": {},
   "outputs": [],
   "source": [
    "import openai\n",
    "\n",
    "# OpenAI API 설정\n",
    "openai_client = openai.Client(api_key=\"sk\")\n",
    "\n",
    "# Neo4j 연결 설정\n",
    "NEO4J_URI = \"bolt://localhost:7687\"\n",
    "NEO4J_USER = \"neo4j\"\n",
    "NEO4J_PASSWORD = \" \" # Neo4j 패스워드 입력"
   ]
  },
  {
   "cell_type": "code",
   "execution_count": 4,
   "id": "aaae2f3c-73f7-4708-855b-89a913b67b26",
   "metadata": {},
   "outputs": [],
   "source": [
    "from neo4j import GraphDatabase # Neo4j와 연결할 수 있는 드라이버\n",
    "\n",
    "# Neo4j 드라이버 설정\n",
    "class Neo4jDatabase: \n",
    "    # Neo4j 데이터베이스에 연결\n",
    "    def __init__(self, uri, user, password): \n",
    "        self.driver = GraphDatabase.driver(uri, auth=(user, password))\n",
    "\n",
    "    # Neo4j 연결을 닫는 함수\n",
    "    def close(self): \n",
    "        self.driver.close()\n",
    "\n",
    "    # Cypher 쿼리를 실행하는 함수\n",
    "    def run_query(self, query, parameters={}):\n",
    "        # Neo4j 세션을 열어 데이터베이스와 통신\n",
    "        with self.driver.session() as session: \n",
    "            try:\n",
    "                result = session.run(query, parameters) # Cypher 쿼리를 실행하고 결과를 가져옴\n",
    "                return [record for record in result]\n",
    "            except Exception as e:\n",
    "                return f\"❌ Neo4j 오류 발생: {str(e)}\"\n",
    "\n",
    "# Neo4j 데이터베이스 객체 생성\n",
    "db = Neo4jDatabase(NEO4J_URI, NEO4J_USER, NEO4J_PASSWORD)"
   ]
  },
  {
   "cell_type": "code",
   "execution_count": 5,
   "id": "48ad41af-58ce-420a-bc1c-7202f41b86a2",
   "metadata": {},
   "outputs": [],
   "source": [
    "# 사용자의 질문 (question)을 입력받아 Cypher 쿼리로 변환하는 함수\n",
    "def generate_cypher_query(question):\n",
    "    prompt = f\"\"\"\n",
    "    당신은 자연어 질문을 Neo4j 데이터베이스에서 사용할 Cypher 쿼리로 변환하는 AI 어시스턴트입니다.\n",
    "    이 데이터베이스에는 자동차 제조업체, 브랜드 및 가격에 대한 정보가 포함되어 있습니다.\n",
    "\n",
    "    다음은 몇 가지 예제입니다:\n",
    "    - \"현대에서 만든 자동차 브랜드는 무엇인가요?\" -> MATCH (m:Manufacturer {{Name: '현대'}})-[:PRODUCES]->(b:Brand) RETURN b.Name\n",
    "    - \"람보르기니의 자동차 모델은?\" -> MATCH (m:Manufacturer {{Name: '람보르기니'}})-[:PRODUCES]->(b:Brand) RETURN b.Name\n",
    "    - \"벤츠에서 가장 비싼 모델은?\" -> MATCH (m:Manufacturer {{Name: '벤츠'}})-[:PRODUCES]->(b:Brand)-[:HAS_PRICE]->(p:Price) RETURN b.Name ORDER BY p.Amount DESC LIMIT 1\n",
    "    - \"1억 원 이상 하는 자동차는?\" -> MATCH (b:Brand)-[:HAS_PRICE]->(p:Price) WHERE p.Amount >= 100000000 RETURN b.Name, p.Amount\n",
    "\n",
    "    다음 질문을 Cypher 쿼리로 변환하세요:\n",
    "    \"{question}\"\n",
    "    \"\"\"\n",
    "    \n",
    "    # GPT-4에게 질문을 전달하여 Cypher 쿼리를 생성하도록 요청\n",
    "    response = openai_client.chat.completions.create(\n",
    "        model=\"gpt-4\",\n",
    "        messages=[{\"role\": \"system\", \"content\": prompt}]\n",
    "    )\n",
    "    \n",
    "    # LLM 응답 정리하되 불필요한 따옴표 제거\n",
    "    cypher_query = response.choices[0].message.content.strip().strip('\"')\n",
    "    \n",
    "    print(f\"생성된 Cypher 쿼리: {cypher_query}\") \n",
    "    return cypher_query"
   ]
  },
  {
   "cell_type": "code",
   "execution_count": 6,
   "id": "c139eb6a-a5b1-475e-8bca-7b2c8f2d01d3",
   "metadata": {},
   "outputs": [],
   "source": [
    "# 사용자의 자연어 질문(question)을 입력받아 자동차 데이터를 조회하는 함수\n",
    "def get_car_data(question):\n",
    "    # 자연어 질문을 Cypher 쿼리로 변환\n",
    "    cypher_query = generate_cypher_query(question)\n",
    "    \n",
    "    # Cypher 쿼리 실행\n",
    "    results = db.run_query(cypher_query)\n",
    "    \n",
    "    # 검색 결과 반환\n",
    "    if results:\n",
    "        return [dict(record) for record in results]\n",
    "    else:\n",
    "        return \"해당 정보를 찾을 수 없습니다.\""
   ]
  },
  {
   "cell_type": "code",
   "execution_count": 7,
   "id": "b819c747-e4dd-4de0-aeac-091c853b3ab7",
   "metadata": {},
   "outputs": [
    {
     "name": "stdout",
     "output_type": "stream",
     "text": [
      "생성된 Cypher 쿼리: MATCH (m:Manufacturer {Name: '현대'})-[:PRODUCES]->(b:Brand) RETURN b.Name\n",
      "[{'b.Name': '제네시스'}, {'b.Name': '쏘나타'}, {'b.Name': '아반떼'}, {'b.Name': '그랜저'}]\n"
     ]
    }
   ],
   "source": [
    "user_question = \"현대에서 만든 자동차 브랜드는 무엇인가요?\"\n",
    "response = get_car_data(user_question)\n",
    "print(response)"
   ]
  },
  {
   "cell_type": "code",
   "execution_count": 8,
   "id": "977d4bf7-4f21-4ac7-ac36-72cfe057de43",
   "metadata": {},
   "outputs": [
    {
     "name": "stdout",
     "output_type": "stream",
     "text": [
      "생성된 Cypher 쿼리: MATCH (m:Manufacturer {Name: '람보르기니'})-[:PRODUCES]->(b:Brand) RETURN b.Name\n",
      "[{'b.Name': 'Aventador'}, {'b.Name': 'Huracan'}, {'b.Name': 'Urus'}]\n"
     ]
    }
   ],
   "source": [
    "user_question = \"람보르기니의 자동차 모델은?\"\n",
    "response = get_car_data(user_question)\n",
    "print(response)"
   ]
  },
  {
   "cell_type": "code",
   "execution_count": 9,
   "id": "5cd47dad-141b-404b-aa60-fec10cad16b1",
   "metadata": {},
   "outputs": [
    {
     "name": "stdout",
     "output_type": "stream",
     "text": [
      "생성된 Cypher 쿼리: MATCH (b:Brand)-[:HAS_PRICE]->(p:Price) WHERE p.Amount >= 100000000 RETURN b.Name, p.Amount\n",
      "[{'b.Name': 'S-Class', 'p.Amount': 150000000}, {'b.Name': '7 Series', 'p.Amount': 130000000}, {'b.Name': '488 GTB', 'p.Amount': 400000000}, {'b.Name': 'Huracan', 'p.Amount': 400000000}, {'b.Name': 'Roma', 'p.Amount': 350000000}, {'b.Name': 'F8 Tributo', 'p.Amount': 450000000}, {'b.Name': 'SF90', 'p.Amount': 600000000}, {'b.Name': 'Model S', 'p.Amount': 110000000}, {'b.Name': 'Model X', 'p.Amount': 120000000}, {'b.Name': 'Aventador', 'p.Amount': 500000000}, {'b.Name': 'Urus', 'p.Amount': 300000000}]\n"
     ]
    }
   ],
   "source": [
    "user_question = \"1억 원 이상 하는 자동차는?\"\n",
    "response = get_car_data(user_question)\n",
    "print(response)"
   ]
  }
 ],
 "metadata": {
  "kernelspec": {
   "display_name": "graph",
   "language": "python",
   "name": "graph"
  },
  "language_info": {
   "codemirror_mode": {
    "name": "ipython",
    "version": 3
   },
   "file_extension": ".py",
   "mimetype": "text/x-python",
   "name": "python",
   "nbconvert_exporter": "python",
   "pygments_lexer": "ipython3",
   "version": "3.10.16"
  }
 },
 "nbformat": 4,
 "nbformat_minor": 5
}
