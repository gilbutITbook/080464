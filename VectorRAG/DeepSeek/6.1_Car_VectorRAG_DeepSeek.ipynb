{
 "cells": [
  {
   "cell_type": "code",
   "execution_count": 1,
   "id": "9f73e381-2317-4f71-9192-89f38fa64c66",
   "metadata": {
    "scrolled": true
   },
   "outputs": [
    {
     "name": "stdout",
     "output_type": "stream",
     "text": [
      "Requirement already satisfied: langchain in c:\\users\\jyseo\\anaconda3\\envs\\rag\\lib\\site-packages (0.3.19)\n",
      "Requirement already satisfied: langchain-openai in c:\\users\\jyseo\\anaconda3\\envs\\rag\\lib\\site-packages (0.3.6)\n",
      "Requirement already satisfied: faiss-cpu in c:\\users\\jyseo\\anaconda3\\envs\\rag\\lib\\site-packages (1.10.0)\n",
      "Requirement already satisfied: pandas in c:\\users\\jyseo\\anaconda3\\envs\\rag\\lib\\site-packages (2.2.3)\n",
      "Collecting langchain-ollama\n",
      "  Using cached langchain_ollama-0.2.3-py3-none-any.whl.metadata (1.9 kB)\n",
      "Requirement already satisfied: langchain-core<1.0.0,>=0.3.35 in c:\\users\\jyseo\\anaconda3\\envs\\rag\\lib\\site-packages (from langchain) (0.3.37)\n",
      "Requirement already satisfied: langchain-text-splitters<1.0.0,>=0.3.6 in c:\\users\\jyseo\\anaconda3\\envs\\rag\\lib\\site-packages (from langchain) (0.3.6)\n",
      "Requirement already satisfied: langsmith<0.4,>=0.1.17 in c:\\users\\jyseo\\anaconda3\\envs\\rag\\lib\\site-packages (from langchain) (0.3.10)\n",
      "Requirement already satisfied: pydantic<3.0.0,>=2.7.4 in c:\\users\\jyseo\\anaconda3\\envs\\rag\\lib\\site-packages (from langchain) (2.10.6)\n",
      "Requirement already satisfied: SQLAlchemy<3,>=1.4 in c:\\users\\jyseo\\anaconda3\\envs\\rag\\lib\\site-packages (from langchain) (2.0.38)\n",
      "Requirement already satisfied: requests<3,>=2 in c:\\users\\jyseo\\anaconda3\\envs\\rag\\lib\\site-packages (from langchain) (2.32.3)\n",
      "Requirement already satisfied: PyYAML>=5.3 in c:\\users\\jyseo\\anaconda3\\envs\\rag\\lib\\site-packages (from langchain) (6.0.2)\n",
      "Requirement already satisfied: aiohttp<4.0.0,>=3.8.3 in c:\\users\\jyseo\\anaconda3\\envs\\rag\\lib\\site-packages (from langchain) (3.11.12)\n",
      "Requirement already satisfied: tenacity!=8.4.0,<10,>=8.1.0 in c:\\users\\jyseo\\anaconda3\\envs\\rag\\lib\\site-packages (from langchain) (9.0.0)\n",
      "Requirement already satisfied: numpy<2,>=1.26.4 in c:\\users\\jyseo\\anaconda3\\envs\\rag\\lib\\site-packages (from langchain) (1.26.4)\n",
      "Requirement already satisfied: async-timeout<5.0.0,>=4.0.0 in c:\\users\\jyseo\\anaconda3\\envs\\rag\\lib\\site-packages (from langchain) (4.0.3)\n",
      "Requirement already satisfied: openai<2.0.0,>=1.58.1 in c:\\users\\jyseo\\anaconda3\\envs\\rag\\lib\\site-packages (from langchain-openai) (1.63.2)\n",
      "Requirement already satisfied: tiktoken<1,>=0.7 in c:\\users\\jyseo\\anaconda3\\envs\\rag\\lib\\site-packages (from langchain-openai) (0.9.0)\n",
      "Requirement already satisfied: packaging in c:\\users\\jyseo\\anaconda3\\envs\\rag\\lib\\site-packages (from faiss-cpu) (24.2)\n",
      "Requirement already satisfied: python-dateutil>=2.8.2 in c:\\users\\jyseo\\anaconda3\\envs\\rag\\lib\\site-packages (from pandas) (2.9.0.post0)\n",
      "Requirement already satisfied: pytz>=2020.1 in c:\\users\\jyseo\\anaconda3\\envs\\rag\\lib\\site-packages (from pandas) (2025.1)\n",
      "Requirement already satisfied: tzdata>=2022.7 in c:\\users\\jyseo\\anaconda3\\envs\\rag\\lib\\site-packages (from pandas) (2025.1)\n",
      "Collecting ollama<1,>=0.4.4 (from langchain-ollama)\n",
      "  Using cached ollama-0.4.7-py3-none-any.whl.metadata (4.7 kB)\n",
      "Requirement already satisfied: aiohappyeyeballs>=2.3.0 in c:\\users\\jyseo\\anaconda3\\envs\\rag\\lib\\site-packages (from aiohttp<4.0.0,>=3.8.3->langchain) (2.4.6)\n",
      "Requirement already satisfied: aiosignal>=1.1.2 in c:\\users\\jyseo\\anaconda3\\envs\\rag\\lib\\site-packages (from aiohttp<4.0.0,>=3.8.3->langchain) (1.3.2)\n",
      "Requirement already satisfied: attrs>=17.3.0 in c:\\users\\jyseo\\anaconda3\\envs\\rag\\lib\\site-packages (from aiohttp<4.0.0,>=3.8.3->langchain) (25.1.0)\n",
      "Requirement already satisfied: frozenlist>=1.1.1 in c:\\users\\jyseo\\anaconda3\\envs\\rag\\lib\\site-packages (from aiohttp<4.0.0,>=3.8.3->langchain) (1.5.0)\n",
      "Requirement already satisfied: multidict<7.0,>=4.5 in c:\\users\\jyseo\\anaconda3\\envs\\rag\\lib\\site-packages (from aiohttp<4.0.0,>=3.8.3->langchain) (6.1.0)\n",
      "Requirement already satisfied: propcache>=0.2.0 in c:\\users\\jyseo\\anaconda3\\envs\\rag\\lib\\site-packages (from aiohttp<4.0.0,>=3.8.3->langchain) (0.3.0)\n",
      "Requirement already satisfied: yarl<2.0,>=1.17.0 in c:\\users\\jyseo\\anaconda3\\envs\\rag\\lib\\site-packages (from aiohttp<4.0.0,>=3.8.3->langchain) (1.18.3)\n",
      "Requirement already satisfied: jsonpatch<2.0,>=1.33 in c:\\users\\jyseo\\anaconda3\\envs\\rag\\lib\\site-packages (from langchain-core<1.0.0,>=0.3.35->langchain) (1.33)\n",
      "Requirement already satisfied: typing-extensions>=4.7 in c:\\users\\jyseo\\anaconda3\\envs\\rag\\lib\\site-packages (from langchain-core<1.0.0,>=0.3.35->langchain) (4.12.2)\n",
      "Requirement already satisfied: httpx<1,>=0.23.0 in c:\\users\\jyseo\\anaconda3\\envs\\rag\\lib\\site-packages (from langsmith<0.4,>=0.1.17->langchain) (0.28.1)\n",
      "Requirement already satisfied: orjson<4.0.0,>=3.9.14 in c:\\users\\jyseo\\anaconda3\\envs\\rag\\lib\\site-packages (from langsmith<0.4,>=0.1.17->langchain) (3.10.15)\n",
      "Requirement already satisfied: requests-toolbelt<2.0.0,>=1.0.0 in c:\\users\\jyseo\\anaconda3\\envs\\rag\\lib\\site-packages (from langsmith<0.4,>=0.1.17->langchain) (1.0.0)\n",
      "Requirement already satisfied: zstandard<0.24.0,>=0.23.0 in c:\\users\\jyseo\\anaconda3\\envs\\rag\\lib\\site-packages (from langsmith<0.4,>=0.1.17->langchain) (0.23.0)\n",
      "Requirement already satisfied: anyio<5,>=3.5.0 in c:\\users\\jyseo\\anaconda3\\envs\\rag\\lib\\site-packages (from openai<2.0.0,>=1.58.1->langchain-openai) (4.8.0)\n",
      "Requirement already satisfied: distro<2,>=1.7.0 in c:\\users\\jyseo\\anaconda3\\envs\\rag\\lib\\site-packages (from openai<2.0.0,>=1.58.1->langchain-openai) (1.9.0)\n",
      "Requirement already satisfied: jiter<1,>=0.4.0 in c:\\users\\jyseo\\anaconda3\\envs\\rag\\lib\\site-packages (from openai<2.0.0,>=1.58.1->langchain-openai) (0.8.2)\n",
      "Requirement already satisfied: sniffio in c:\\users\\jyseo\\anaconda3\\envs\\rag\\lib\\site-packages (from openai<2.0.0,>=1.58.1->langchain-openai) (1.3.1)\n",
      "Requirement already satisfied: tqdm>4 in c:\\users\\jyseo\\anaconda3\\envs\\rag\\lib\\site-packages (from openai<2.0.0,>=1.58.1->langchain-openai) (4.67.1)\n",
      "Requirement already satisfied: annotated-types>=0.6.0 in c:\\users\\jyseo\\anaconda3\\envs\\rag\\lib\\site-packages (from pydantic<3.0.0,>=2.7.4->langchain) (0.7.0)\n",
      "Requirement already satisfied: pydantic-core==2.27.2 in c:\\users\\jyseo\\anaconda3\\envs\\rag\\lib\\site-packages (from pydantic<3.0.0,>=2.7.4->langchain) (2.27.2)\n",
      "Requirement already satisfied: six>=1.5 in c:\\users\\jyseo\\anaconda3\\envs\\rag\\lib\\site-packages (from python-dateutil>=2.8.2->pandas) (1.17.0)\n",
      "Requirement already satisfied: charset-normalizer<4,>=2 in c:\\users\\jyseo\\anaconda3\\envs\\rag\\lib\\site-packages (from requests<3,>=2->langchain) (3.4.1)\n",
      "Requirement already satisfied: idna<4,>=2.5 in c:\\users\\jyseo\\anaconda3\\envs\\rag\\lib\\site-packages (from requests<3,>=2->langchain) (3.10)\n",
      "Requirement already satisfied: urllib3<3,>=1.21.1 in c:\\users\\jyseo\\anaconda3\\envs\\rag\\lib\\site-packages (from requests<3,>=2->langchain) (2.3.0)\n",
      "Requirement already satisfied: certifi>=2017.4.17 in c:\\users\\jyseo\\anaconda3\\envs\\rag\\lib\\site-packages (from requests<3,>=2->langchain) (2025.1.31)\n",
      "Requirement already satisfied: greenlet!=0.4.17 in c:\\users\\jyseo\\anaconda3\\envs\\rag\\lib\\site-packages (from SQLAlchemy<3,>=1.4->langchain) (3.1.1)\n",
      "Requirement already satisfied: regex>=2022.1.18 in c:\\users\\jyseo\\anaconda3\\envs\\rag\\lib\\site-packages (from tiktoken<1,>=0.7->langchain-openai) (2024.11.6)\n",
      "Requirement already satisfied: exceptiongroup>=1.0.2 in c:\\users\\jyseo\\anaconda3\\envs\\rag\\lib\\site-packages (from anyio<5,>=3.5.0->openai<2.0.0,>=1.58.1->langchain-openai) (1.2.2)\n",
      "Requirement already satisfied: httpcore==1.* in c:\\users\\jyseo\\anaconda3\\envs\\rag\\lib\\site-packages (from httpx<1,>=0.23.0->langsmith<0.4,>=0.1.17->langchain) (1.0.7)\n",
      "Requirement already satisfied: h11<0.15,>=0.13 in c:\\users\\jyseo\\anaconda3\\envs\\rag\\lib\\site-packages (from httpcore==1.*->httpx<1,>=0.23.0->langsmith<0.4,>=0.1.17->langchain) (0.14.0)\n",
      "Requirement already satisfied: jsonpointer>=1.9 in c:\\users\\jyseo\\anaconda3\\envs\\rag\\lib\\site-packages (from jsonpatch<2.0,>=1.33->langchain-core<1.0.0,>=0.3.35->langchain) (3.0.0)\n",
      "Requirement already satisfied: colorama in c:\\users\\jyseo\\anaconda3\\envs\\rag\\lib\\site-packages (from tqdm>4->openai<2.0.0,>=1.58.1->langchain-openai) (0.4.6)\n",
      "Using cached langchain_ollama-0.2.3-py3-none-any.whl (19 kB)\n",
      "Using cached ollama-0.4.7-py3-none-any.whl (13 kB)\n",
      "Installing collected packages: ollama, langchain-ollama\n",
      "Successfully installed langchain-ollama-0.2.3 ollama-0.4.7\n"
     ]
    }
   ],
   "source": [
    "!pip install langchain langchain-openai faiss-cpu pandas langchain-ollama"
   ]
  },
  {
   "cell_type": "code",
   "execution_count": 3,
   "id": "180af04e-f36a-42e6-ac0a-9b17307258c9",
   "metadata": {},
   "outputs": [],
   "source": [
    "import os\n",
    "os.environ[\"OPENAI_API_KEY\"] = \"sk\" #openai 키 입력\n",
    "\n",
    "from langchain_ollama import OllamaLLM\n",
    "# DeepSeek R1 모델 로드\n",
    "deepseek = OllamaLLM(model=\"deepseek-r1\")"
   ]
  },
  {
   "cell_type": "code",
   "execution_count": 4,
   "id": "beb3fd85-2889-409a-8ab9-dbb5f32dff46",
   "metadata": {},
   "outputs": [
    {
     "name": "stdout",
     "output_type": "stream",
     "text": [
      "📌 질문: 현대에서 가장 비싼 자동차는 무엇인가요?\n",
      "💡 답변: {'query': '현대에서 가장 비싼 자동차는 무엇인가요?', 'result': \"<think>\\nOkay, I need to figure out which car is the most expensive among the ones mentioned. Let's see, the prices given are for Audi Q5, Audi A3, and two different prices for Volvo XC60.\\n\\nFirst, Audi Q5 is priced at 5,603,000 won. Then, Audi A3 is more expensive at 8,794,000 won. Now, looking at the Volvo XC60, there are three prices listed: 11,571,000 won, 5,507,000 won, and 10,311,000 won.\\n\\nComparing all these, the highest price is 11,571,000 won for the Volvo XC60. So, it seems like the Volvo XC60 is the most expensive among them.\\n</think>\\n\\nThe most expensive car from the given options is the **вол沃 XC60** with a price of 11,571,000won. \\n\\nThe answer: **волwo XC60**\"}\n"
     ]
    }
   ],
   "source": [
    "import pandas as pd # 엑셀 데이터를 불러와서 전처리\n",
    "from langchain_openai import OpenAIEmbeddings # 텍스트 데이터를 벡터(Embedding)로 변환\n",
    "from langchain.vectorstores import FAISS # 벡터 데이터를 저장하고 유사도 검색을 수행\n",
    "from langchain.llms import OpenAI # GPT-4o 모델을 활용하여 검색된 데이터를 바탕으로 답변 생성\n",
    "from langchain.chains import RetrievalQA # 검색된 데이터를 기반으로 LLM(GPT-4)이 질의응답(QA) 수행\n",
    "\n",
    "# 엑셀 파일(car_prices.xlsx)을 불러와서 데이터프레임(df)에 저장\n",
    "file_path = \"d:/data/car_prices.xlsx\"\n",
    "df = pd.read_excel(file_path)\n",
    "\n",
    "# 데이터 전처리 (데이터를 벡터화하기 전에 텍스트 형태로 변환)\n",
    "df[\"text\"] = df.apply(lambda row: f\"{row['제조사']} {row['모델']} 가격: {row['가격(만원)']}만원\", axis=1)\n",
    "\n",
    "# 문장을 벡터(숫자 배열)로 변환\n",
    "embeddings = OpenAIEmbeddings()\n",
    "\n",
    "# 벡터로 변환 후 FAISS 인덱스에 저장 \n",
    "vectorstore = FAISS.from_texts(df[\"text\"].tolist(), embeddings)\n",
    "\n",
    "# 추후 빠르게 불러올 수 있도록 FAISS 인덱스를 저장\n",
    "faiss_db_path = \"d:/data/faiss_car_prices\"\n",
    "vectorstore.save_local(faiss_db_path)\n",
    "\n",
    "# 저장된 FAISS 데이터베이스를 로드하여 재사용\n",
    "vectorstore = FAISS.load_local(faiss_db_path, embeddings, allow_dangerous_deserialization=True, )\n",
    "\n",
    "# 유사한 데이터를 검색할 수 있는 retriever 생성, 최대 5개의 유사한 결과를 반환\n",
    "retriever = vectorstore.as_retriever(search_type=\"similarity\", search_kwargs={\"k\": 5})\n",
    "\n",
    "# 랭체인의 RetrievalQA를 사용하여 질의응답 시스템 생성\n",
    "qa_chain = RetrievalQA.from_chain_type(llm=deepseek, retriever=retriever, chain_type=\"stuff\")\n",
    "\n",
    "# 사용자의 질문에 대한 답변 생성\n",
    "query = \"현대에서 가장 비싼 자동차는 무엇인가요?\"\n",
    "response = qa_chain.invoke(query)\n",
    "\n",
    "# 결과 출력\n",
    "print(\"📌 질문:\", query)\n",
    "print(\"💡 답변:\", response)"
   ]
  },
  {
   "cell_type": "code",
   "execution_count": 5,
   "id": "d6f0b89d-af72-4066-9638-d2094921f2b0",
   "metadata": {},
   "outputs": [
    {
     "name": "stdout",
     "output_type": "stream",
     "text": [
      "📌 질문: 아반떼의 제조사는? 한글로 답변해줘\n",
      "💡 답변: {'query': '아반떼의 제조사는? 한글로 답변해줘', 'result': '<think>\\nOkay, so I\\'m trying to figure out the manufacturer of \"아반떼\" using the context provided. Let\\'s see what information is given here.\\n\\nFirst, there are two prices listed for \"현대 아반떼\": 5631000만원 and 5112000만원. I know that \"현대\" translates to \"Hyundai\" in Korean. So, this makes me think that Hyundai is the manufacturer of 아반떼.\\n\\nThen there are prices for \"라ム보르기니 아בות도르\" which translate to \"Lamborghini Avettore.\" These prices don\\'t seem relevant to determining the manufacturer of 아반떼.\\n\\nNext, we have prices for \"기아 스포티지,\" which is \"Kia Spectra.\" Again, this doesn\\'t help with finding the manufacturer of 아반떼 since Kia\\'s vehicle names are different from Hyundai\\'s.\\n\\nSo, putting it all together, the only connection I see between the manufacturer and the vehicle name is Hyundai\\'s 아반떼. The other vehicles have their own manufacturers, which don\\'t overlap with Hyundai in these contexts.\\n</think>\\n\\n아반떼의 제조사는 Hyundai입니다.'}\n"
     ]
    }
   ],
   "source": [
    "query = \"아반떼의 제조사는? 한글로 답변해줘\"\n",
    "response = qa_chain.invoke(query)\n",
    "\n",
    "# 결과 출력\n",
    "print(\"📌 질문:\", query)\n",
    "print(\"💡 답변:\", response)"
   ]
  },
  {
   "cell_type": "code",
   "execution_count": 11,
   "id": "45b2be9c-6597-46c0-b6f2-4ad4db47c8d9",
   "metadata": {},
   "outputs": [
    {
     "name": "stdout",
     "output_type": "stream",
     "text": [
      "📌 질문: 1억 이상하는 모든 자동차 모델을 알려줘?\n",
      "💡 답변: {'query': '1억 이상하는 모든 자동차 모델을 알려줘?', 'result': \"<think>\\nOkay, I need to figure out which car models cost over 10 billion won. Let's look at the given prices.\\n\\nFirst,볼보 XC60 has three different prices listed: 11571000만원, 10311000만원, and 5507000만원. I need to convert these into billions to see which are over 10억. \\n\\n1억 won is equal to 10,000,000,000 won. So let's divide each price by 1억:\\n\\n- 11571000만원 ÷ 1억 = 1.1571억\\n- 10311000만원 ÷ 1억 ≈ 1.0311억\\n- 5507000만원 ÷ 1억 ≈ 0.5507억\\n\\nOnly the first two are over 1억, so both variants of Bolt XC60 qualify.\\n\\nNext, the Macarla 720S has prices: 41870000만원 and 42563000만원. Converting these:\\n\\n- 41870000만원 ÷ 1억 = 4.187억\\n- 42563000만원 ÷ 1억 ≈ 4.2563억\\n\\nNeither of these reaches 10억, so Macarla 720S is below the threshold.\\n\\nTherefore, the car models over 10억 are the Bolt XC60 variants.\\n</think>\\n\\nThe car models that cost over 10 billion won (10억) are:\\n\\n- Bolt EV(XC60) variants at 1.1571억 and 1.0311억\"}\n"
     ]
    }
   ],
   "source": [
    "query = \"1억 이상하는 모든 자동차 모델을 알려줘?\"\n",
    "response = qa_chain.invoke(query)\n",
    "\n",
    "# 결과 출력\n",
    "print(\"📌 질문:\", query)\n",
    "print(\"💡 답변:\", response)"
   ]
  },
  {
   "cell_type": "code",
   "execution_count": null,
   "id": "902a76cc-99ad-4354-a7aa-212518312246",
   "metadata": {},
   "outputs": [],
   "source": []
  }
 ],
 "metadata": {
  "kernelspec": {
   "display_name": "graph",
   "language": "python",
   "name": "graph"
  },
  "language_info": {
   "codemirror_mode": {
    "name": "ipython",
    "version": 3
   },
   "file_extension": ".py",
   "mimetype": "text/x-python",
   "name": "python",
   "nbconvert_exporter": "python",
   "pygments_lexer": "ipython3",
   "version": "3.10.16"
  }
 },
 "nbformat": 4,
 "nbformat_minor": 5
}
