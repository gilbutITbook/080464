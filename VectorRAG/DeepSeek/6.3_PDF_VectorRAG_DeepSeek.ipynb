{
 "cells": [
  {
   "cell_type": "code",
   "execution_count": 2,
   "id": "134e55f9-1c80-4fc2-946d-911fe15b8325",
   "metadata": {
    "scrolled": true
   },
   "outputs": [
    {
     "name": "stdout",
     "output_type": "stream",
     "text": [
      "Requirement already satisfied: faiss-cpu in c:\\users\\jyseo\\anaconda3\\envs\\graph\\lib\\site-packages (1.10.0)\n",
      "Requirement already satisfied: langchain in c:\\users\\jyseo\\anaconda3\\envs\\graph\\lib\\site-packages (0.3.17)\n",
      "Requirement already satisfied: pandas in c:\\users\\jyseo\\anaconda3\\envs\\graph\\lib\\site-packages (2.2.3)\n",
      "Requirement already satisfied: pypdf in c:\\users\\jyseo\\anaconda3\\envs\\graph\\lib\\site-packages (5.2.0)\n",
      "Requirement already satisfied: langchain-openai in c:\\users\\jyseo\\anaconda3\\envs\\graph\\lib\\site-packages (0.3.4)\n",
      "Requirement already satisfied: openpyxl in c:\\users\\jyseo\\anaconda3\\envs\\graph\\lib\\site-packages (3.1.5)\n",
      "Requirement already satisfied: langchain-ollama in c:\\users\\jyseo\\anaconda3\\envs\\graph\\lib\\site-packages (0.2.3)\n",
      "Requirement already satisfied: numpy<3.0,>=1.25.0 in c:\\users\\jyseo\\anaconda3\\envs\\graph\\lib\\site-packages (from faiss-cpu) (1.26.4)\n",
      "Requirement already satisfied: packaging in c:\\users\\jyseo\\anaconda3\\envs\\graph\\lib\\site-packages (from faiss-cpu) (24.2)\n",
      "Requirement already satisfied: PyYAML>=5.3 in c:\\users\\jyseo\\anaconda3\\envs\\graph\\lib\\site-packages (from langchain) (6.0.2)\n",
      "Requirement already satisfied: SQLAlchemy<3,>=1.4 in c:\\users\\jyseo\\anaconda3\\envs\\graph\\lib\\site-packages (from langchain) (2.0.37)\n",
      "Requirement already satisfied: aiohttp<4.0.0,>=3.8.3 in c:\\users\\jyseo\\anaconda3\\envs\\graph\\lib\\site-packages (from langchain) (3.11.11)\n",
      "Requirement already satisfied: async-timeout<5.0.0,>=4.0.0 in c:\\users\\jyseo\\anaconda3\\envs\\graph\\lib\\site-packages (from langchain) (4.0.3)\n",
      "Requirement already satisfied: langchain-core<0.4.0,>=0.3.33 in c:\\users\\jyseo\\anaconda3\\envs\\graph\\lib\\site-packages (from langchain) (0.3.34)\n",
      "Requirement already satisfied: langchain-text-splitters<0.4.0,>=0.3.3 in c:\\users\\jyseo\\anaconda3\\envs\\graph\\lib\\site-packages (from langchain) (0.3.5)\n",
      "Requirement already satisfied: langsmith<0.4,>=0.1.17 in c:\\users\\jyseo\\anaconda3\\envs\\graph\\lib\\site-packages (from langchain) (0.3.2)\n",
      "Requirement already satisfied: pydantic<3.0.0,>=2.7.4 in c:\\users\\jyseo\\anaconda3\\envs\\graph\\lib\\site-packages (from langchain) (2.10.6)\n",
      "Requirement already satisfied: requests<3,>=2 in c:\\users\\jyseo\\anaconda3\\envs\\graph\\lib\\site-packages (from langchain) (2.32.3)\n",
      "Requirement already satisfied: tenacity!=8.4.0,<10,>=8.1.0 in c:\\users\\jyseo\\anaconda3\\envs\\graph\\lib\\site-packages (from langchain) (9.0.0)\n",
      "Requirement already satisfied: python-dateutil>=2.8.2 in c:\\users\\jyseo\\anaconda3\\envs\\graph\\lib\\site-packages (from pandas) (2.9.0.post0)\n",
      "Requirement already satisfied: pytz>=2020.1 in c:\\users\\jyseo\\anaconda3\\envs\\graph\\lib\\site-packages (from pandas) (2024.2)\n",
      "Requirement already satisfied: tzdata>=2022.7 in c:\\users\\jyseo\\anaconda3\\envs\\graph\\lib\\site-packages (from pandas) (2025.1)\n",
      "Requirement already satisfied: typing_extensions>=4.0 in c:\\users\\jyseo\\anaconda3\\envs\\graph\\lib\\site-packages (from pypdf) (4.12.2)\n",
      "Requirement already satisfied: openai<2.0.0,>=1.58.1 in c:\\users\\jyseo\\anaconda3\\envs\\graph\\lib\\site-packages (from langchain-openai) (1.61.1)\n",
      "Requirement already satisfied: tiktoken<1,>=0.7 in c:\\users\\jyseo\\anaconda3\\envs\\graph\\lib\\site-packages (from langchain-openai) (0.8.0)\n",
      "Requirement already satisfied: et-xmlfile in c:\\users\\jyseo\\anaconda3\\envs\\graph\\lib\\site-packages (from openpyxl) (2.0.0)\n",
      "Requirement already satisfied: ollama<1,>=0.4.4 in c:\\users\\jyseo\\anaconda3\\envs\\graph\\lib\\site-packages (from langchain-ollama) (0.4.7)\n",
      "Requirement already satisfied: aiohappyeyeballs>=2.3.0 in c:\\users\\jyseo\\anaconda3\\envs\\graph\\lib\\site-packages (from aiohttp<4.0.0,>=3.8.3->langchain) (2.4.4)\n",
      "Requirement already satisfied: aiosignal>=1.1.2 in c:\\users\\jyseo\\anaconda3\\envs\\graph\\lib\\site-packages (from aiohttp<4.0.0,>=3.8.3->langchain) (1.3.2)\n",
      "Requirement already satisfied: attrs>=17.3.0 in c:\\users\\jyseo\\anaconda3\\envs\\graph\\lib\\site-packages (from aiohttp<4.0.0,>=3.8.3->langchain) (25.1.0)\n",
      "Requirement already satisfied: frozenlist>=1.1.1 in c:\\users\\jyseo\\anaconda3\\envs\\graph\\lib\\site-packages (from aiohttp<4.0.0,>=3.8.3->langchain) (1.5.0)\n",
      "Requirement already satisfied: multidict<7.0,>=4.5 in c:\\users\\jyseo\\anaconda3\\envs\\graph\\lib\\site-packages (from aiohttp<4.0.0,>=3.8.3->langchain) (6.1.0)\n",
      "Requirement already satisfied: propcache>=0.2.0 in c:\\users\\jyseo\\anaconda3\\envs\\graph\\lib\\site-packages (from aiohttp<4.0.0,>=3.8.3->langchain) (0.2.1)\n",
      "Requirement already satisfied: yarl<2.0,>=1.17.0 in c:\\users\\jyseo\\anaconda3\\envs\\graph\\lib\\site-packages (from aiohttp<4.0.0,>=3.8.3->langchain) (1.18.3)\n",
      "Requirement already satisfied: jsonpatch<2.0,>=1.33 in c:\\users\\jyseo\\anaconda3\\envs\\graph\\lib\\site-packages (from langchain-core<0.4.0,>=0.3.33->langchain) (1.33)\n",
      "Requirement already satisfied: httpx<1,>=0.23.0 in c:\\users\\jyseo\\anaconda3\\envs\\graph\\lib\\site-packages (from langsmith<0.4,>=0.1.17->langchain) (0.28.1)\n",
      "Requirement already satisfied: orjson<4.0.0,>=3.9.14 in c:\\users\\jyseo\\anaconda3\\envs\\graph\\lib\\site-packages (from langsmith<0.4,>=0.1.17->langchain) (3.10.15)\n",
      "Requirement already satisfied: requests-toolbelt<2.0.0,>=1.0.0 in c:\\users\\jyseo\\anaconda3\\envs\\graph\\lib\\site-packages (from langsmith<0.4,>=0.1.17->langchain) (1.0.0)\n",
      "Requirement already satisfied: zstandard<0.24.0,>=0.23.0 in c:\\users\\jyseo\\anaconda3\\envs\\graph\\lib\\site-packages (from langsmith<0.4,>=0.1.17->langchain) (0.23.0)\n",
      "Requirement already satisfied: anyio<5,>=3.5.0 in c:\\users\\jyseo\\anaconda3\\envs\\graph\\lib\\site-packages (from openai<2.0.0,>=1.58.1->langchain-openai) (4.8.0)\n",
      "Requirement already satisfied: distro<2,>=1.7.0 in c:\\users\\jyseo\\anaconda3\\envs\\graph\\lib\\site-packages (from openai<2.0.0,>=1.58.1->langchain-openai) (1.9.0)\n",
      "Requirement already satisfied: jiter<1,>=0.4.0 in c:\\users\\jyseo\\anaconda3\\envs\\graph\\lib\\site-packages (from openai<2.0.0,>=1.58.1->langchain-openai) (0.8.2)\n",
      "Requirement already satisfied: sniffio in c:\\users\\jyseo\\anaconda3\\envs\\graph\\lib\\site-packages (from openai<2.0.0,>=1.58.1->langchain-openai) (1.3.1)\n",
      "Requirement already satisfied: tqdm>4 in c:\\users\\jyseo\\anaconda3\\envs\\graph\\lib\\site-packages (from openai<2.0.0,>=1.58.1->langchain-openai) (4.67.1)\n",
      "Requirement already satisfied: annotated-types>=0.6.0 in c:\\users\\jyseo\\anaconda3\\envs\\graph\\lib\\site-packages (from pydantic<3.0.0,>=2.7.4->langchain) (0.7.0)\n",
      "Requirement already satisfied: pydantic-core==2.27.2 in c:\\users\\jyseo\\anaconda3\\envs\\graph\\lib\\site-packages (from pydantic<3.0.0,>=2.7.4->langchain) (2.27.2)\n",
      "Requirement already satisfied: six>=1.5 in c:\\users\\jyseo\\anaconda3\\envs\\graph\\lib\\site-packages (from python-dateutil>=2.8.2->pandas) (1.16.0)\n",
      "Requirement already satisfied: charset-normalizer<4,>=2 in c:\\users\\jyseo\\anaconda3\\envs\\graph\\lib\\site-packages (from requests<3,>=2->langchain) (3.4.1)\n",
      "Requirement already satisfied: idna<4,>=2.5 in c:\\users\\jyseo\\anaconda3\\envs\\graph\\lib\\site-packages (from requests<3,>=2->langchain) (3.10)\n",
      "Requirement already satisfied: urllib3<3,>=1.21.1 in c:\\users\\jyseo\\anaconda3\\envs\\graph\\lib\\site-packages (from requests<3,>=2->langchain) (2.3.0)\n",
      "Requirement already satisfied: certifi>=2017.4.17 in c:\\users\\jyseo\\anaconda3\\envs\\graph\\lib\\site-packages (from requests<3,>=2->langchain) (2024.12.14)\n",
      "Requirement already satisfied: greenlet!=0.4.17 in c:\\users\\jyseo\\anaconda3\\envs\\graph\\lib\\site-packages (from SQLAlchemy<3,>=1.4->langchain) (3.1.1)\n",
      "Requirement already satisfied: regex>=2022.1.18 in c:\\users\\jyseo\\anaconda3\\envs\\graph\\lib\\site-packages (from tiktoken<1,>=0.7->langchain-openai) (2024.11.6)\n",
      "Requirement already satisfied: exceptiongroup>=1.0.2 in c:\\users\\jyseo\\anaconda3\\envs\\graph\\lib\\site-packages (from anyio<5,>=3.5.0->openai<2.0.0,>=1.58.1->langchain-openai) (1.2.0)\n",
      "Requirement already satisfied: httpcore==1.* in c:\\users\\jyseo\\anaconda3\\envs\\graph\\lib\\site-packages (from httpx<1,>=0.23.0->langsmith<0.4,>=0.1.17->langchain) (1.0.7)\n",
      "Requirement already satisfied: h11<0.15,>=0.13 in c:\\users\\jyseo\\anaconda3\\envs\\graph\\lib\\site-packages (from httpcore==1.*->httpx<1,>=0.23.0->langsmith<0.4,>=0.1.17->langchain) (0.14.0)\n",
      "Requirement already satisfied: jsonpointer>=1.9 in c:\\users\\jyseo\\anaconda3\\envs\\graph\\lib\\site-packages (from jsonpatch<2.0,>=1.33->langchain-core<0.4.0,>=0.3.33->langchain) (3.0.0)\n",
      "Requirement already satisfied: colorama in c:\\users\\jyseo\\anaconda3\\envs\\graph\\lib\\site-packages (from tqdm>4->openai<2.0.0,>=1.58.1->langchain-openai) (0.4.6)\n"
     ]
    }
   ],
   "source": [
    "!pip install faiss-cpu langchain pandas pypdf langchain-openai openpyxl langchain-ollama"
   ]
  },
  {
   "cell_type": "code",
   "execution_count": 3,
   "id": "cd6ab6c9-5d96-406b-80ca-530f05624b0b",
   "metadata": {},
   "outputs": [],
   "source": [
    "import os\n",
    "os.environ[\"OPENAI_API_KEY\"] = \"sk\" #openai 키 입력\n",
    "\n",
    "from langchain_ollama import OllamaLLM\n",
    "# DeepSeek R1 모델 로드\n",
    "deepseek = OllamaLLM(model=\"deepseek-r1\")"
   ]
  },
  {
   "cell_type": "code",
   "execution_count": 4,
   "id": "d1600def-c281-4e1b-8ad1-b13de46883d9",
   "metadata": {},
   "outputs": [
    {
     "name": "stdout",
     "output_type": "stream",
     "text": [
      "🌵 다육이 키우는 방법 \n",
      "1. 햇빛과 온도 관리 \n",
      "• 햇빛: 다육이는 햇빛을 좋아하는 식물이므로 하루 4~6 시간 이상은 직사광선을 받게 \n",
      "해주세요. \n",
      "o 창가, 베란다, 야외 등\n",
      "{'source': 'd:/data/succulent.pdf', 'page': 0, 'page_label': '1'}\n"
     ]
    }
   ],
   "source": [
    "from langchain.document_loaders import PyPDFLoader\n",
    "docs = [] # 추출된 문서를 저장할 리스트를 초기화\n",
    "\n",
    "loader = PyPDFLoader(\"d:/data/succulent.pdf\") # \"d:/data/succulent.pdf\" 경로의 PDF 파일을 PyPDFLoader로 로드\n",
    "\n",
    "# PDF에서 텍스트 데이터를 추출하여 텍스트 데이터 반환\n",
    "text_content = loader.load() \n",
    "\n",
    "# PDF의 각 페이지를 하나씩 가져와 docs에 저장\n",
    "for doc in text_content:\n",
    "    docs.append(doc)\n",
    "print(docs[0].page_content[:100]) # 첫 번째 페이지의 처음 100자 출력\n",
    "print(docs[0].metadata) # 첫 번째 문서(첫 페이지)의 메타데이터 출력"
   ]
  },
  {
   "cell_type": "code",
   "execution_count": 5,
   "id": "c6ba9bda-e76a-49ca-9e5c-e11314c076e1",
   "metadata": {},
   "outputs": [],
   "source": [
    "from langchain_openai import OpenAIEmbeddings\n",
    "from langchain import FAISS # Facebook에서 개발한 벡터 검색을 위한 Similarity Search 라이브러리\n",
    "from langchain.text_splitter import CharacterTextSplitter\n",
    "\n",
    "# 문서 분할 (텍스트를 작은 단위로 나누기)\n",
    "text_splitter = CharacterTextSplitter(\n",
    "    separator=\"\\n\\n\", # 두 줄 띄움(\\n\\n)을 기준으로 분할\n",
    "    chunk_size=100, # 긴 텍스트를 100자 단위로 분할\n",
    "    chunk_overlap=10, # 각 청크 사이에 10자 겹치도록 설정\n",
    "    length_function=len,\n",
    "    is_separator_regex=False,\n",
    ")\n",
    "\n",
    "splits = text_splitter.split_documents(text_content) # text_content에서 텍스트를 가져와 분할\n",
    "# 문서를 FAISS가 처리할 수 있도록, 텍스트(page_content)만 추출해서 texts에 저장\n",
    "texts = [doc.page_content for doc in splits]\n",
    "\n",
    "# OpenAI 임베딩 모델 로드\n",
    "embeddings = OpenAIEmbeddings()\n",
    "\n",
    "# 변환된 벡터를 FAISS 벡터 데이터베이스에 저장\n",
    "vectorstore = FAISS.from_texts(texts, embeddings)\n",
    "\n",
    "# FAISS 벡터 인덱스를 로컬 파일(d:/data/db_faiss_complete_open_ai)에 저장\n",
    "vectorstore.save_local('d:/data/db_faiss_complete_open_ai')"
   ]
  },
  {
   "cell_type": "code",
   "execution_count": 6,
   "id": "d6cd60c7-9ec7-4af7-9751-c208cc3e9c97",
   "metadata": {},
   "outputs": [],
   "source": [
    "from langchain_core.prompts import PromptTemplate\n",
    "# PromptTemplate를 사용하여 맞춤형 프롬프트 생성\n",
    "custom_prompt_template = PromptTemplate(\n",
    "    template = \"\"\"당신은 다육이를 키우는 정보를 제공하는 챗봇입니다.\n",
    "\n",
    "{context}\n",
    "\n",
    "제공된 소스 데이터만 사용하여 고객의 질문에 답하세요.\n",
    "모르겠다면 \"잘 모르겠습니다.\"라고 답하세요.\n",
    "친절하고 예의 바르며 전문적인 어조를 사용하세요.\n",
    "답변은 간결하게 유지하세요.\n",
    "\n",
    "질문: {question}\n",
    "\n",
    "답변:\n",
    "\"\"\",\n",
    "input_variables=[\"context\"]\n",
    ")\n",
    "chain_type_kwargs = {\"prompt\": custom_prompt_template} # 프롬프트를 랭체인 체인(chain_type_kwargs)에 전달"
   ]
  },
  {
   "cell_type": "code",
   "execution_count": 7,
   "id": "2e08c77e-0502-47c9-8803-abc0e69839f8",
   "metadata": {},
   "outputs": [],
   "source": [
    "# FAISS 데이터베이스 로드 (FAISS.load_local)\n",
    "retriever = FAISS.load_local(\n",
    "    \"d:/data/db_faiss_complete_open_ai\", \n",
    "    OpenAIEmbeddings(),  # 저장된 벡터 데이터를 OpenAI Embeddings 모델을 사용하여 변환\n",
    "    allow_dangerous_deserialization=True  \n",
    ").as_retriever(\n",
    "    search_type=\"similarity\", # 유사한 문서를 검색\n",
    "    search_kwargs={\"k\": 8} # 최대 8개의 유사한 문서를 반환\n",
    ") # as_retriever()를 사용하여 문서 검색 가능하도록 변환"
   ]
  },
  {
   "cell_type": "code",
   "execution_count": 8,
   "id": "2b7632a1-fe54-46c1-a8bb-6540cc21de3c",
   "metadata": {},
   "outputs": [
    {
     "name": "stdout",
     "output_type": "stream",
     "text": [
      "{'query': '겨울철 다육이 키우는 방법은?', 'result': \"<think>\\nAlright, the user is asking about how to grow radishes during the winter. They've provided a detailed guide with 8 methods, so I need to focus on the specific winter techniques. \\n\\nFirst, I remember that in the fall or spring, people often cut and store radish shoots for winter use. That makes sense because it's a way to have fresh produce all year round.\\n\\nNext, during the winter, the soil can get cold, so watering is crucial but needs to be done carefully. It has to be enough without causing ice, which could damage the roots. I should mention avoiding overwatering and maybe using a slow-release fertilizer to keep the soil moist without letting it become waterlogged.\\n\\nPlanting in containers seems practical because they are easy to move around and can handle cold weather better than large beds. I'll include tips on planting them directly into the soil, which is also a good method for convenience.\\n\\nPruning is important too. New growth comes up early in winter, so trimming back excess growth can prevent overcrowding and resource competition among the radishes. This helps them grow healthier.\\n\\nComposting or enriching the soil with compost or manure is a great way to improve soil health during cold months. It provides nutrients that might be scarce when the weather is harsh.\\n\\nCovering the radishes with plastic sheetting sounds like a good precaution against frost damage, especially if temperatures drop suddenly. It also helps retain moisture in the soil.\\n\\nFertilizing in winter is tricky because it can cause root rot if not done carefully. So I'll advise using a slow-release fertilizer just before planting to kickstart growth without overdoing it early in the spring.\\n\\nFinally, protecting from frost by covering them with plastic薄膜 or placing them under glass is essential to keep them warm and healthy during cold snaps.\\n\\nPutting all these together should give the user a comprehensive winter radish growing guide.\\n</think>\\n\\n 겨울철에 다육이를 키우는 방법은 다음과 같습니다:\\n\\n1. ** 秋MERGING (겨ps) **  \\n   겨울철에는 뿌리가 멈추기 때문에 1~2주 prior planting을 Perform합니다.\\n\\n2. ** WINTER PLANTING **  \\n   - ** 土豆-剜, 1~2주 전에 1-3개의 캐주ию를 5cm에서 땅을 깨끗하게処理하고, \\n   - ** 土豆-剜, 1~2주 전에 1~2개의 캐주ию를 10cm에서 땅을 깨끗하게処리하고,\\n   - ** 土豆-剜, 1~2주 전에 3~4개의 캐주ию를 5cm에서 땅을 깨끗하게処리하고,\\n\\n3. ** WINTER WATERING **  \\n   • 冷 Adblue를 활용한 엘 Nee-fertigation:  \\n     • $$ Snow or 冰块을 활용한 water application $$\\n\\n4. ** WINTER PRUNING **  \\n   • 新 growth가 1~2주 전에 5cm에서 cutting and pruning $$\\n\\n5. ** SOIL ENRICHMENT **  \\n   • $$ Compost $$ or $$ Manure $$를 soil에 풀어 quality를 개선 $$\\n\\n6. ** WINTER COVING **  \\n   • $$ Plastic sheeting $$를 radish cover $$\\n\\n7. ** WINTER FERTILIZING **  \\n   • $$ Slow-release fertilizer $$ 2-3周 전에 Apply $$\\n\\n8. ** WINTER PROTECTION FROM FROST **  \\n   • $$ Plastic薄膜 or $$ Glasshouse $$\"}\n"
     ]
    }
   ],
   "source": [
    "from langchain.chains import RetrievalQA # 검색과 질의응답(QA)을 결합한 랭체인 체인\n",
    "\n",
    "qa_chain = RetrievalQA.from_chain_type(\n",
    "    llm=deepseek,\n",
    "    chain_type=\"stuff\", # 검색된 문서를 합쳐서 하나의 입력(prompt)으로 전달\n",
    "    retriever=retriever, # \tFAISS 기반의 관련 문서 검색\n",
    "    chain_type_kwargs=chain_type_kwargs # 프롬프트(PromptTemplate) 적용\n",
    ")\n",
    "\n",
    "# 사용자의 질문을 입력하여 검색 및 응답 생성\n",
    "query = \"겨울철 다육이 키우는 방법은?\"\n",
    "response = qa_chain.invoke(query)\n",
    "\n",
    "print(response)"
   ]
  },
  {
   "cell_type": "code",
   "execution_count": 9,
   "id": "afcec723-c6e1-40a9-aa82-dd44147fd047",
   "metadata": {},
   "outputs": [
    {
     "name": "stdout",
     "output_type": "stream",
     "text": [
      "{'query': '겨울철 물은 몇 번 주는 것이 적당해?', 'result': '<think>\\n好的，现在我要帮用户解答冬季应该给多肉植物浇水的频率问题。首先，我得仔细回忆一下多肉植物的 watering schedule 的一般建议。\\n\\n根据之前提供的信息，多肉在冬季需要维持一定的湿度和温度，不能让土壤过干也不能冻伤。所以，浇水次数应该减少。通常在冬季，很多植物会停止浇水，或者每周浇水一次是比较常见的做法。\\n\\n不过，用户可能有不同的情况，比如室内的环境湿度如何，或者他们是否有其他的浇水习惯。考虑到多肉喜欢湿润的环境，但又不希望积水，所以冬季浇水的时间和频率需要特别注意。\\n\\n根据用户的指导方针，冬季浇水应该非常少，甚至可以说是停止。但有时候在非常干燥的情况下，可能每周一次也是合适的。因此，我建议用户在冬季每周浇水最多一次，并且要确保土壤不干也不冻伤。\\n\\n最后，表达上要亲切、专业，让用户感到被理解和支持。\\n</think>\\n\\n 겨울철은 mult cutaneous를 주 primary water가 적당합니다. 보통은 한 달에 한 번 정도로浇水를 해주면 됩니다.'}\n"
     ]
    }
   ],
   "source": [
    "query = \"겨울철 물은 몇 번 주는 것이 적당해?\"\n",
    "response = qa_chain.invoke(query)\n",
    "\n",
    "print(response)"
   ]
  },
  {
   "cell_type": "code",
   "execution_count": null,
   "id": "81baaf0f-85a9-4fab-a41e-583ce78e330e",
   "metadata": {},
   "outputs": [],
   "source": []
  }
 ],
 "metadata": {
  "kernelspec": {
   "display_name": "graph",
   "language": "python",
   "name": "graph"
  },
  "language_info": {
   "codemirror_mode": {
    "name": "ipython",
    "version": 3
   },
   "file_extension": ".py",
   "mimetype": "text/x-python",
   "name": "python",
   "nbconvert_exporter": "python",
   "pygments_lexer": "ipython3",
   "version": "3.10.16"
  }
 },
 "nbformat": 4,
 "nbformat_minor": 5
}
