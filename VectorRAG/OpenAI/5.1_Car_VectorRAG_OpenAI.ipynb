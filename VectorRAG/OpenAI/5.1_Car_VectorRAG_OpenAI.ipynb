{
 "cells": [
  {
   "cell_type": "code",
   "execution_count": 17,
   "id": "9f73e381-2317-4f71-9192-89f38fa64c66",
   "metadata": {
    "scrolled": true
   },
   "outputs": [
    {
     "name": "stdout",
     "output_type": "stream",
     "text": [
      "Collecting langchain\n",
      "  Using cached langchain-0.3.19-py3-none-any.whl.metadata (7.9 kB)\n",
      "Collecting langchain-community\n",
      "  Using cached langchain_community-0.3.18-py3-none-any.whl.metadata (2.4 kB)\n",
      "Collecting langchain-openai\n",
      "  Using cached langchain_openai-0.3.6-py3-none-any.whl.metadata (2.3 kB)\n",
      "Collecting faiss-cpu\n",
      "  Using cached faiss_cpu-1.10.0-cp310-cp310-win_amd64.whl.metadata (4.5 kB)\n",
      "Collecting pandas\n",
      "  Using cached pandas-2.2.3-cp310-cp310-win_amd64.whl.metadata (19 kB)\n",
      "Collecting openpyxl\n",
      "  Using cached openpyxl-3.1.5-py2.py3-none-any.whl.metadata (2.5 kB)\n",
      "Requirement already satisfied: langchain-core<1.0.0,>=0.3.35 in c:\\users\\jyseo\\anaconda3\\envs\\rag\\lib\\site-packages (from langchain) (0.3.37)\n",
      "Requirement already satisfied: langchain-text-splitters<1.0.0,>=0.3.6 in c:\\users\\jyseo\\anaconda3\\envs\\rag\\lib\\site-packages (from langchain) (0.3.6)\n",
      "Requirement already satisfied: langsmith<0.4,>=0.1.17 in c:\\users\\jyseo\\anaconda3\\envs\\rag\\lib\\site-packages (from langchain) (0.3.10)\n",
      "Requirement already satisfied: pydantic<3.0.0,>=2.7.4 in c:\\users\\jyseo\\anaconda3\\envs\\rag\\lib\\site-packages (from langchain) (2.10.6)\n",
      "Requirement already satisfied: SQLAlchemy<3,>=1.4 in c:\\users\\jyseo\\anaconda3\\envs\\rag\\lib\\site-packages (from langchain) (2.0.38)\n",
      "Requirement already satisfied: requests<3,>=2 in c:\\users\\jyseo\\anaconda3\\envs\\rag\\lib\\site-packages (from langchain) (2.32.3)\n",
      "Requirement already satisfied: PyYAML>=5.3 in c:\\users\\jyseo\\anaconda3\\envs\\rag\\lib\\site-packages (from langchain) (6.0.2)\n",
      "Requirement already satisfied: aiohttp<4.0.0,>=3.8.3 in c:\\users\\jyseo\\anaconda3\\envs\\rag\\lib\\site-packages (from langchain) (3.11.12)\n",
      "Requirement already satisfied: tenacity!=8.4.0,<10,>=8.1.0 in c:\\users\\jyseo\\anaconda3\\envs\\rag\\lib\\site-packages (from langchain) (9.0.0)\n",
      "Requirement already satisfied: numpy<2,>=1.26.4 in c:\\users\\jyseo\\anaconda3\\envs\\rag\\lib\\site-packages (from langchain) (1.26.4)\n",
      "Requirement already satisfied: async-timeout<5.0.0,>=4.0.0 in c:\\users\\jyseo\\anaconda3\\envs\\rag\\lib\\site-packages (from langchain) (4.0.3)\n",
      "Requirement already satisfied: dataclasses-json<0.7,>=0.5.7 in c:\\users\\jyseo\\anaconda3\\envs\\rag\\lib\\site-packages (from langchain-community) (0.6.7)\n",
      "Requirement already satisfied: pydantic-settings<3.0.0,>=2.4.0 in c:\\users\\jyseo\\anaconda3\\envs\\rag\\lib\\site-packages (from langchain-community) (2.8.0)\n",
      "Requirement already satisfied: httpx-sse<1.0.0,>=0.4.0 in c:\\users\\jyseo\\anaconda3\\envs\\rag\\lib\\site-packages (from langchain-community) (0.4.0)\n",
      "Requirement already satisfied: openai<2.0.0,>=1.58.1 in c:\\users\\jyseo\\anaconda3\\envs\\rag\\lib\\site-packages (from langchain-openai) (1.63.2)\n",
      "Requirement already satisfied: tiktoken<1,>=0.7 in c:\\users\\jyseo\\anaconda3\\envs\\rag\\lib\\site-packages (from langchain-openai) (0.9.0)\n",
      "Requirement already satisfied: packaging in c:\\users\\jyseo\\anaconda3\\envs\\rag\\lib\\site-packages (from faiss-cpu) (24.2)\n",
      "Requirement already satisfied: python-dateutil>=2.8.2 in c:\\users\\jyseo\\anaconda3\\envs\\rag\\lib\\site-packages (from pandas) (2.9.0.post0)\n",
      "Requirement already satisfied: pytz>=2020.1 in c:\\users\\jyseo\\anaconda3\\envs\\rag\\lib\\site-packages (from pandas) (2025.1)\n",
      "Requirement already satisfied: tzdata>=2022.7 in c:\\users\\jyseo\\anaconda3\\envs\\rag\\lib\\site-packages (from pandas) (2025.1)\n",
      "Collecting et-xmlfile (from openpyxl)\n",
      "  Using cached et_xmlfile-2.0.0-py3-none-any.whl.metadata (2.7 kB)\n",
      "Requirement already satisfied: aiohappyeyeballs>=2.3.0 in c:\\users\\jyseo\\anaconda3\\envs\\rag\\lib\\site-packages (from aiohttp<4.0.0,>=3.8.3->langchain) (2.4.6)\n",
      "Requirement already satisfied: aiosignal>=1.1.2 in c:\\users\\jyseo\\anaconda3\\envs\\rag\\lib\\site-packages (from aiohttp<4.0.0,>=3.8.3->langchain) (1.3.2)\n",
      "Requirement already satisfied: attrs>=17.3.0 in c:\\users\\jyseo\\anaconda3\\envs\\rag\\lib\\site-packages (from aiohttp<4.0.0,>=3.8.3->langchain) (25.1.0)\n",
      "Requirement already satisfied: frozenlist>=1.1.1 in c:\\users\\jyseo\\anaconda3\\envs\\rag\\lib\\site-packages (from aiohttp<4.0.0,>=3.8.3->langchain) (1.5.0)\n",
      "Requirement already satisfied: multidict<7.0,>=4.5 in c:\\users\\jyseo\\anaconda3\\envs\\rag\\lib\\site-packages (from aiohttp<4.0.0,>=3.8.3->langchain) (6.1.0)\n",
      "Requirement already satisfied: propcache>=0.2.0 in c:\\users\\jyseo\\anaconda3\\envs\\rag\\lib\\site-packages (from aiohttp<4.0.0,>=3.8.3->langchain) (0.3.0)\n",
      "Requirement already satisfied: yarl<2.0,>=1.17.0 in c:\\users\\jyseo\\anaconda3\\envs\\rag\\lib\\site-packages (from aiohttp<4.0.0,>=3.8.3->langchain) (1.18.3)\n",
      "Requirement already satisfied: marshmallow<4.0.0,>=3.18.0 in c:\\users\\jyseo\\anaconda3\\envs\\rag\\lib\\site-packages (from dataclasses-json<0.7,>=0.5.7->langchain-community) (3.26.1)\n",
      "Requirement already satisfied: typing-inspect<1,>=0.4.0 in c:\\users\\jyseo\\anaconda3\\envs\\rag\\lib\\site-packages (from dataclasses-json<0.7,>=0.5.7->langchain-community) (0.9.0)\n",
      "Requirement already satisfied: jsonpatch<2.0,>=1.33 in c:\\users\\jyseo\\anaconda3\\envs\\rag\\lib\\site-packages (from langchain-core<1.0.0,>=0.3.35->langchain) (1.33)\n",
      "Requirement already satisfied: typing-extensions>=4.7 in c:\\users\\jyseo\\anaconda3\\envs\\rag\\lib\\site-packages (from langchain-core<1.0.0,>=0.3.35->langchain) (4.12.2)\n",
      "Requirement already satisfied: httpx<1,>=0.23.0 in c:\\users\\jyseo\\anaconda3\\envs\\rag\\lib\\site-packages (from langsmith<0.4,>=0.1.17->langchain) (0.28.1)\n",
      "Requirement already satisfied: orjson<4.0.0,>=3.9.14 in c:\\users\\jyseo\\anaconda3\\envs\\rag\\lib\\site-packages (from langsmith<0.4,>=0.1.17->langchain) (3.10.15)\n",
      "Requirement already satisfied: requests-toolbelt<2.0.0,>=1.0.0 in c:\\users\\jyseo\\anaconda3\\envs\\rag\\lib\\site-packages (from langsmith<0.4,>=0.1.17->langchain) (1.0.0)\n",
      "Requirement already satisfied: zstandard<0.24.0,>=0.23.0 in c:\\users\\jyseo\\anaconda3\\envs\\rag\\lib\\site-packages (from langsmith<0.4,>=0.1.17->langchain) (0.23.0)\n",
      "Requirement already satisfied: anyio<5,>=3.5.0 in c:\\users\\jyseo\\anaconda3\\envs\\rag\\lib\\site-packages (from openai<2.0.0,>=1.58.1->langchain-openai) (4.8.0)\n",
      "Requirement already satisfied: distro<2,>=1.7.0 in c:\\users\\jyseo\\anaconda3\\envs\\rag\\lib\\site-packages (from openai<2.0.0,>=1.58.1->langchain-openai) (1.9.0)\n",
      "Requirement already satisfied: jiter<1,>=0.4.0 in c:\\users\\jyseo\\anaconda3\\envs\\rag\\lib\\site-packages (from openai<2.0.0,>=1.58.1->langchain-openai) (0.8.2)\n",
      "Requirement already satisfied: sniffio in c:\\users\\jyseo\\anaconda3\\envs\\rag\\lib\\site-packages (from openai<2.0.0,>=1.58.1->langchain-openai) (1.3.1)\n",
      "Requirement already satisfied: tqdm>4 in c:\\users\\jyseo\\anaconda3\\envs\\rag\\lib\\site-packages (from openai<2.0.0,>=1.58.1->langchain-openai) (4.67.1)\n",
      "Requirement already satisfied: annotated-types>=0.6.0 in c:\\users\\jyseo\\anaconda3\\envs\\rag\\lib\\site-packages (from pydantic<3.0.0,>=2.7.4->langchain) (0.7.0)\n",
      "Requirement already satisfied: pydantic-core==2.27.2 in c:\\users\\jyseo\\anaconda3\\envs\\rag\\lib\\site-packages (from pydantic<3.0.0,>=2.7.4->langchain) (2.27.2)\n",
      "Requirement already satisfied: python-dotenv>=0.21.0 in c:\\users\\jyseo\\anaconda3\\envs\\rag\\lib\\site-packages (from pydantic-settings<3.0.0,>=2.4.0->langchain-community) (1.0.1)\n",
      "Requirement already satisfied: six>=1.5 in c:\\users\\jyseo\\anaconda3\\envs\\rag\\lib\\site-packages (from python-dateutil>=2.8.2->pandas) (1.17.0)\n",
      "Requirement already satisfied: charset-normalizer<4,>=2 in c:\\users\\jyseo\\anaconda3\\envs\\rag\\lib\\site-packages (from requests<3,>=2->langchain) (3.4.1)\n",
      "Requirement already satisfied: idna<4,>=2.5 in c:\\users\\jyseo\\anaconda3\\envs\\rag\\lib\\site-packages (from requests<3,>=2->langchain) (3.10)\n",
      "Requirement already satisfied: urllib3<3,>=1.21.1 in c:\\users\\jyseo\\anaconda3\\envs\\rag\\lib\\site-packages (from requests<3,>=2->langchain) (2.3.0)\n",
      "Requirement already satisfied: certifi>=2017.4.17 in c:\\users\\jyseo\\anaconda3\\envs\\rag\\lib\\site-packages (from requests<3,>=2->langchain) (2025.1.31)\n",
      "Requirement already satisfied: greenlet!=0.4.17 in c:\\users\\jyseo\\anaconda3\\envs\\rag\\lib\\site-packages (from SQLAlchemy<3,>=1.4->langchain) (3.1.1)\n",
      "Requirement already satisfied: regex>=2022.1.18 in c:\\users\\jyseo\\anaconda3\\envs\\rag\\lib\\site-packages (from tiktoken<1,>=0.7->langchain-openai) (2024.11.6)\n",
      "Requirement already satisfied: exceptiongroup>=1.0.2 in c:\\users\\jyseo\\anaconda3\\envs\\rag\\lib\\site-packages (from anyio<5,>=3.5.0->openai<2.0.0,>=1.58.1->langchain-openai) (1.2.2)\n",
      "Requirement already satisfied: httpcore==1.* in c:\\users\\jyseo\\anaconda3\\envs\\rag\\lib\\site-packages (from httpx<1,>=0.23.0->langsmith<0.4,>=0.1.17->langchain) (1.0.7)\n",
      "Requirement already satisfied: h11<0.15,>=0.13 in c:\\users\\jyseo\\anaconda3\\envs\\rag\\lib\\site-packages (from httpcore==1.*->httpx<1,>=0.23.0->langsmith<0.4,>=0.1.17->langchain) (0.14.0)\n",
      "Requirement already satisfied: jsonpointer>=1.9 in c:\\users\\jyseo\\anaconda3\\envs\\rag\\lib\\site-packages (from jsonpatch<2.0,>=1.33->langchain-core<1.0.0,>=0.3.35->langchain) (3.0.0)\n",
      "Requirement already satisfied: colorama in c:\\users\\jyseo\\anaconda3\\envs\\rag\\lib\\site-packages (from tqdm>4->openai<2.0.0,>=1.58.1->langchain-openai) (0.4.6)\n",
      "Requirement already satisfied: mypy-extensions>=0.3.0 in c:\\users\\jyseo\\anaconda3\\envs\\rag\\lib\\site-packages (from typing-inspect<1,>=0.4.0->dataclasses-json<0.7,>=0.5.7->langchain-community) (1.0.0)\n",
      "Using cached langchain-0.3.19-py3-none-any.whl (1.0 MB)\n",
      "Using cached langchain_community-0.3.18-py3-none-any.whl (2.5 MB)\n",
      "Using cached langchain_openai-0.3.6-py3-none-any.whl (54 kB)\n",
      "Using cached faiss_cpu-1.10.0-cp310-cp310-win_amd64.whl (13.7 MB)\n",
      "Using cached pandas-2.2.3-cp310-cp310-win_amd64.whl (11.6 MB)\n",
      "Using cached openpyxl-3.1.5-py2.py3-none-any.whl (250 kB)\n",
      "Using cached et_xmlfile-2.0.0-py3-none-any.whl (18 kB)\n",
      "Installing collected packages: faiss-cpu, et-xmlfile, pandas, openpyxl, langchain-openai, langchain, langchain-community\n",
      "Successfully installed et-xmlfile-2.0.0 faiss-cpu-1.10.0 langchain-0.3.19 langchain-community-0.3.18 langchain-openai-0.3.6 openpyxl-3.1.5 pandas-2.2.3\n"
     ]
    }
   ],
   "source": [
    "!pip install langchain langchain-community langchain-openai faiss-cpu pandas openpyxl"
   ]
  },
  {
   "cell_type": "code",
   "execution_count": 19,
   "id": "180af04e-f36a-42e6-ac0a-9b17307258c9",
   "metadata": {},
   "outputs": [],
   "source": [
    "import os\n",
    "os.environ[\"OPENAI_API_KEY\"] = \"sk\" #openai 키 입력, OpenAI API 키를 환경 변수(os.environ)에 저장\n",
    "\n",
    "from langchain_openai import ChatOpenAI # 랭체인을 사용하여 OpenAI의 GPT-4o 모델을 불러오는 클래스\n",
    "llm = ChatOpenAI(\n",
    "    model=\"gpt-4o\",\n",
    ")"
   ]
  },
  {
   "cell_type": "code",
   "execution_count": 20,
   "id": "beb3fd85-2889-409a-8ab9-dbb5f32dff46",
   "metadata": {},
   "outputs": [
    {
     "name": "stdout",
     "output_type": "stream",
     "text": [
      "📌 질문: 현대에서 가장 비싼 자동차는 무엇인가요?\n",
      "💡 답변: {'query': '현대에서 가장 비싼 자동차는 무엇인가요?', 'result': '제공된 정보에는 아우디와 볼보 자동차의 가격만 나와 있으므로, 현대 자동차에 관한 정보는 포함되어 있지 않습니다. 현대에서 가장 비싼 자동차에 대한 정보는 별도의 자료를 참고해 주시기 바랍니다.'}\n"
     ]
    }
   ],
   "source": [
    "import pandas as pd # 엑셀 데이터를 불러와서 전처리\n",
    "from langchain_openai import OpenAIEmbeddings # 텍스트 데이터를 벡터(Embedding)로 변환\n",
    "from langchain.vectorstores import FAISS # 벡터 데이터를 저장하고 유사도 검색을 수행\n",
    "from langchain.llms import OpenAI # GPT-4o 모델을 활용하여 검색된 데이터를 바탕으로 답변 생성\n",
    "from langchain.chains import RetrievalQA # 검색된 데이터를 기반으로 LLM(GPT-4)이 질의응답(QA) 수행\n",
    "\n",
    "# 엑셀 파일(car_prices.xlsx)을 불러와서 데이터프레임(df)에 저장\n",
    "file_path = \"d:/data/car_prices.xlsx\"\n",
    "df = pd.read_excel(file_path)\n",
    "\n",
    "# 데이터 전처리 (데이터를 벡터화하기 전에 텍스트 형태로 변환)\n",
    "df[\"text\"] = df.apply(lambda row: f\"{row['제조사']} {row['모델']} 가격: {row['가격(만원)']}만원\", axis=1)\n",
    "\n",
    "# 문장을 벡터(숫자 배열)로 변환\n",
    "embeddings = OpenAIEmbeddings()\n",
    "\n",
    "# 벡터로 변환 후 FAISS 인덱스에 저장 \n",
    "vectorstore = FAISS.from_texts(df[\"text\"].tolist(), embeddings)\n",
    "\n",
    "# 추후 빠르게 불러올 수 있도록 FAISS 인덱스를 저장\n",
    "faiss_db_path = \"d:/data/faiss_car_prices\"\n",
    "vectorstore.save_local(faiss_db_path)\n",
    "\n",
    "# 저장된 FAISS 데이터베이스를 로드하여 재사용\n",
    "vectorstore = FAISS.load_local(faiss_db_path, embeddings, allow_dangerous_deserialization=True, )\n",
    "\n",
    "# 유사한 데이터를 검색할 수 있는 retriever 생성, 최대 5개의 유사한 결과를 반환\n",
    "retriever = vectorstore.as_retriever(search_type=\"similarity\", search_kwargs={\"k\": 5})\n",
    "\n",
    "# 랭체인의 RetrievalQA를 사용하여 질의응답 시스템 생성\n",
    "qa_chain = RetrievalQA.from_chain_type(llm=llm, retriever=retriever, chain_type=\"stuff\")\n",
    "\n",
    "# 사용자의 질문에 대한 답변 생성\n",
    "query = \"현대에서 가장 비싼 자동차는 무엇인가요?\"\n",
    "response = qa_chain.invoke(query)\n",
    "\n",
    "# 결과 출력\n",
    "print(\"📌 질문:\", query)\n",
    "print(\"💡 답변:\", response)"
   ]
  },
  {
   "cell_type": "code",
   "execution_count": 21,
   "id": "d6f0b89d-af72-4066-9638-d2094921f2b0",
   "metadata": {},
   "outputs": [
    {
     "name": "stdout",
     "output_type": "stream",
     "text": [
      "📌 질문: 아반떼의 제조사는?\n",
      "💡 답변: {'query': '아반떼의 제조사는?', 'result': '아반떼는 현대자동차에서 제조합니다.'}\n"
     ]
    }
   ],
   "source": [
    "query = \"아반떼의 제조사는?\"\n",
    "response = qa_chain.invoke(query)\n",
    "\n",
    "# 결과 출력\n",
    "print(\"📌 질문:\", query)\n",
    "print(\"💡 답변:\", response)"
   ]
  },
  {
   "cell_type": "code",
   "execution_count": 22,
   "id": "45b2be9c-6597-46c0-b6f2-4ad4db47c8d9",
   "metadata": {},
   "outputs": [
    {
     "name": "stdout",
     "output_type": "stream",
     "text": [
      "📌 질문: 1억 이상하는 모든 자동차 모델을 알려줘?\n",
      "💡 답변: {'query': '1억 이상하는 모든 자동차 모델을 알려줘?', 'result': '제공된 정보를 보면, 1억(10,000만원) 이상인 가격을 가진 자동차 모델은 두 가지입니다.\\n\\n• 볼보 XC60  \\n• 맥라렌 720S\\n\\n따라서 1억 이상하는 자동차 모델은 볼보 XC60과 맥라렌 720S입니다.'}\n"
     ]
    }
   ],
   "source": [
    "query = \"1억 이상하는 모든 자동차 모델을 알려줘?\"\n",
    "response = qa_chain.invoke(query)\n",
    "\n",
    "# 결과 출력\n",
    "print(\"📌 질문:\", query)\n",
    "print(\"💡 답변:\", response)"
   ]
  },
  {
   "cell_type": "code",
   "execution_count": 23,
   "id": "81855d13-2312-4767-83c1-cbf28c8bc236",
   "metadata": {},
   "outputs": [
    {
     "name": "stdout",
     "output_type": "stream",
     "text": [
      "📌 질문: 현대에서 가장 비싼 가격의 모델은?\n",
      "💡 답변: {'query': '현대에서 가장 비싼 가격의 모델은?', 'result': '현대에서 제공된 모델 중 가장 비싼 모델은 현대 소나타로, 가격은 5,485,000만원입니다.'}\n"
     ]
    }
   ],
   "source": [
    "query = \"현대에서 가장 비싼 가격의 모델은?\"\n",
    "response = qa_chain.invoke(query)\n",
    "\n",
    "# 결과 출력\n",
    "print(\"📌 질문:\", query)\n",
    "print(\"💡 답변:\", response)"
   ]
  },
  {
   "cell_type": "code",
   "execution_count": null,
   "id": "f8fd7210-5d51-4788-b893-0f2a6c4f915d",
   "metadata": {},
   "outputs": [],
   "source": []
  }
 ],
 "metadata": {
  "kernelspec": {
   "display_name": "rag",
   "language": "python",
   "name": "rag"
  },
  "language_info": {
   "codemirror_mode": {
    "name": "ipython",
    "version": 3
   },
   "file_extension": ".py",
   "mimetype": "text/x-python",
   "name": "python",
   "nbconvert_exporter": "python",
   "pygments_lexer": "ipython3",
   "version": "3.10.16"
  }
 },
 "nbformat": 4,
 "nbformat_minor": 5
}
